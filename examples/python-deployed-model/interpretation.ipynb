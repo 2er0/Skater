{
 "cells": [
  {
   "cell_type": "code",
   "execution_count": null,
   "metadata": {
    "_datascience": {},
    "collapsed": true
   },
   "outputs": [],
   "source": [
    "#load some data\n",
    "import matplotlib.pyplot as plt\n",
    "plt.rcParams['figure.figsize'] = (16, 10)\n",
    "%matplotlib inline\n",
    "from sklearn.datasets import load_boston\n",
    "\n",
    "boston = load_boston()\n",
    "X_boston = boston.data\n",
    "features_boston = boston.feature_names\n",
    "y_boston = boston.target"
   ]
  },
  {
   "cell_type": "code",
   "execution_count": null,
   "metadata": {
    "_datascience": {},
    "collapsed": true
   },
   "outputs": [],
   "source": [
    "from pyinterpret.model import DeployedModel\n",
    "from pyinterpret.model import InMemoryModel\n",
    "\n",
    "def input_formatter(data):\n",
    "    return {'input':data.tolist()}\n",
    "    \n",
    "def output_formatter(response, key='prediction'):\n",
    "    return np.array(response.json()[key])\n",
    "\n",
    "uri = 'http://datsci.dev:5000/predict'\n",
    "\n",
    "\n",
    "dep_model = DeployedModel(uri, \n",
    "                         input_formatter,\n",
    "                         output_formatter,\n",
    "                         class_names=['Housing Prices'], \n",
    "                         examples=X_boston[:1000])\n",
    "\n",
    "pdp = interpreter_boston.partial_dependence.plot_partial_dependence([('LSTAT','RM')],\n",
    "                                                         dep_model,\n",
    "                                                         with_variance = True, \n",
    "                                                         sampling_strategy='random-choice',\n",
    "                                                         n_jobs=4, grid_resolution=10, n_samples = 500, sample=True\n",
    "                                                            )\n"
   ]
  }
 ],
 "metadata": {
  "_datascience": {},
  "kernelspec": {
   "display_name": "Python 2",
   "language": "python",
   "name": "python2"
  }
 },
 "nbformat": 4,
 "nbformat_minor": 0
}
