{
 "cells": [
  {
   "cell_type": "code",
   "execution_count": 1,
   "metadata": {
    "_datascience": {},
    "collapsed": false
   },
   "outputs": [
    {
     "name": "stderr",
     "output_type": "stream",
     "text": [
      "/usr/local/lib/python2.7/dist-packages/matplotlib/__init__.py:913: UserWarning: axes.color_cycle is deprecated and replaced with axes.prop_cycle; please use the latter.\n",
      "  warnings.warn(self.msg_depr % (key, alt_key))\n"
     ]
    }
   ],
   "source": [
    "%matplotlib inline\n",
    "from lynxes.model import DeployedModel\n",
    "from lynxes.model import InMemoryModel\n",
    "from lynxes.core.explanations import Interpretation\n",
    "import pandas as pd\n",
    "import numpy as np\n",
    "import json\n",
    "import requests\n",
    "np.random.seed(1)\n",
    "from __future__ import print_function"
   ]
  },
  {
   "cell_type": "code",
   "execution_count": 2,
   "metadata": {
    "_datascience": {},
    "collapsed": false
   },
   "outputs": [],
   "source": [
    "def input_formatter(data):\n",
    "    # Convert a data frame of the format \n",
    "    #     Status.of.existing.checking.account  Duration.in.month Credit.history Savings.account.bonds \n",
    "    # 0                                 A11                  6            A34            A65\n",
    "    # 1                                 A12                 48            A32            A61 \n",
    "    # to the following format:\n",
    "    # {\"input\":[{\"Status.of.existing.checking.account\": \"A11\", \"Duration.in.month\": 24, \"Credit.history\": \"A32\", \n",
    "    # \"Savings.account.bonds\": \"A63\"}, {\"Status.of.existing.checking.account\": \"A12\", \"Duration.in.month\": 23, \n",
    "    # \"Credit.history\": \"A31\", \"Savings.account.bonds\": \"A65\"}, {\"Status.of.existing.checking.account\": \"A12\", \n",
    "    # \"Duration.in.month\": 23, \"Credit.history\": \"A31\", \"Savings.account.bonds\": \"A65\"}]}\n",
    "    #if not isinstance(data, pd.DataFrame):\n",
    "    #        raise TypeError(\"must be a dataframe\")\n",
    "    return {\"input\": pd.DataFrame(data).to_json(orient='records')}\n",
    "    \n",
    "def output_formatter(response, key='probability'):\n",
    "    return np.array(response.json()['probability'])"
   ]
  },
  {
   "cell_type": "code",
   "execution_count": 3,
   "metadata": {
    "_datascience": {},
    "collapsed": false
   },
   "outputs": [
    {
     "data": {
      "text/html": [
       "<div>\n",
       "<table border=\"1\" class=\"dataframe\">\n",
       "  <thead>\n",
       "    <tr style=\"text-align: right;\">\n",
       "      <th></th>\n",
       "      <th>Status.of.existing.checking.account</th>\n",
       "      <th>Duration.in.month</th>\n",
       "      <th>Credit.history</th>\n",
       "      <th>Purpose</th>\n",
       "      <th>Credit.amount</th>\n",
       "      <th>Savings.account.bonds</th>\n",
       "      <th>Employment.years</th>\n",
       "      <th>Installment.rate.in.percentage.of.disposable.income</th>\n",
       "      <th>Personal.status.and.sex</th>\n",
       "      <th>Other.debtors.guarantors</th>\n",
       "      <th>...</th>\n",
       "      <th>Property</th>\n",
       "      <th>Age.in.years</th>\n",
       "      <th>Other.installment.plans</th>\n",
       "      <th>Housing</th>\n",
       "      <th>Number.of.existing.credits.at.this.bank</th>\n",
       "      <th>Job</th>\n",
       "      <th>Number.of.people.being.liable.to.provide.maintenance.for</th>\n",
       "      <th>Telephone</th>\n",
       "      <th>Foreign.worker</th>\n",
       "      <th>Status</th>\n",
       "    </tr>\n",
       "  </thead>\n",
       "  <tbody>\n",
       "    <tr>\n",
       "      <th>0</th>\n",
       "      <td>A11</td>\n",
       "      <td>6</td>\n",
       "      <td>A34</td>\n",
       "      <td>A43</td>\n",
       "      <td>1169</td>\n",
       "      <td>A65</td>\n",
       "      <td>A75</td>\n",
       "      <td>4</td>\n",
       "      <td>A93</td>\n",
       "      <td>A101</td>\n",
       "      <td>...</td>\n",
       "      <td>A121</td>\n",
       "      <td>67</td>\n",
       "      <td>A143</td>\n",
       "      <td>A152</td>\n",
       "      <td>2</td>\n",
       "      <td>A173</td>\n",
       "      <td>1</td>\n",
       "      <td>A192</td>\n",
       "      <td>A201</td>\n",
       "      <td>1</td>\n",
       "    </tr>\n",
       "  </tbody>\n",
       "</table>\n",
       "<p>1 rows × 21 columns</p>\n",
       "</div>"
      ],
      "text/plain": [
       "  Status.of.existing.checking.account  Duration.in.month Credit.history  \\\n",
       "0                                 A11                  6            A34   \n",
       "\n",
       "  Purpose  Credit.amount Savings.account.bonds Employment.years  \\\n",
       "0     A43           1169                   A65              A75   \n",
       "\n",
       "   Installment.rate.in.percentage.of.disposable.income  \\\n",
       "0                                                  4     \n",
       "\n",
       "  Personal.status.and.sex Other.debtors.guarantors  ...    Property  \\\n",
       "0                     A93                     A101  ...        A121   \n",
       "\n",
       "  Age.in.years  Other.installment.plans Housing  \\\n",
       "0           67                     A143    A152   \n",
       "\n",
       "  Number.of.existing.credits.at.this.bank   Job  \\\n",
       "0                                       2  A173   \n",
       "\n",
       "  Number.of.people.being.liable.to.provide.maintenance.for  Telephone  \\\n",
       "0                                                  1             A192   \n",
       "\n",
       "  Foreign.worker Status  \n",
       "0           A201      1  \n",
       "\n",
       "[1 rows x 21 columns]"
      ]
     },
     "execution_count": 3,
     "metadata": {},
     "output_type": "execute_result"
    }
   ],
   "source": [
    "url = \"https://archive.ics.uci.edu/ml/machine-learning-databases/statlog/german/german.data\"\n",
    "feature_name = ['Status of existing checking account', 'Duration in month', 'Credit history'\n",
    ", 'Purpose', 'Credit amount', 'Savings account.bonds', 'Employment years'\n",
    ", 'Installment rate in percentage of disposable income'\n",
    ", 'Personal status and sex', 'Other debtors.guarantors', 'Present residence since'\n",
    ", 'Property', 'Age in years', 'Other installment plans', 'Housing', 'Number of existing credits at this bank'\n",
    ", 'Job', 'Number of people being liable to provide maintenance for', 'Telephone', 'Foreign worker', 'Status']\n",
    "\n",
    "f_n = [f.replace(' ', '.') for f in feature_name]\n",
    "input_data = pd.read_csv(url, sep=' ', names=f_n)\n",
    "pd.DataFrame(input_data).head(1)"
   ]
  },
  {
   "cell_type": "code",
   "execution_count": 4,
   "metadata": {
    "_datascience": {},
    "collapsed": true
   },
   "outputs": [],
   "source": [
    "deployed_model_uri = \"http://datsci.dev:8000/predict\""
   ]
  },
  {
   "cell_type": "code",
   "execution_count": 5,
   "metadata": {
    "_datascience": {},
    "collapsed": false
   },
   "outputs": [
    {
     "name": "stdout",
     "output_type": "stream",
     "text": [
      "  Status.of.existing.checking.account  Duration.in.month Credit.history  \\\n",
      "0                                 A11                  6            A34   \n",
      "1                                 A12                 48            A32   \n",
      "\n",
      "  Savings.account.bonds  \n",
      "0                   A65  \n",
      "1                   A61  \n",
      "<class 'pandas.core.frame.DataFrame'>\n"
     ]
    }
   ],
   "source": [
    "# Filter on the features as needed by the model\n",
    "selected_input_data = input_data[['Status.of.existing.checking.account', 'Duration.in.month', 'Credit.history', \n",
    "                                  'Savings.account.bonds']]\n",
    "#print(type(selected_input_data.values))\n",
    "print(selected_input_data.head(2))\n",
    "#input_formatter(selected_input_data.values)\n",
    "print(type(selected_input_data))"
   ]
  },
  {
   "cell_type": "code",
   "execution_count": 6,
   "metadata": {
    "_datascience": {},
    "collapsed": false
   },
   "outputs": [
    {
     "name": "stdout",
     "output_type": "stream",
     "text": [
      "[{\"Status.of.existing.checking.account\":\"A11\",\"Duration.in.month\":6,\"Credit.history\":\"A34\",\"Savings.account.bonds\":\"A65\"},{\"Status.of.existing.checking.account\":\"A12\",\"Duration.in.month\":48,\"Credit.history\":\"A32\",\"Savings.account.bonds\":\"A61\"},{\"Status.of.existing.checking.account\":\"A14\",\"Duration.in.month\":12,\"Credit.history\":\"A34\",\"Savings.account.bonds\":\"A61\"},{\"Status.of.existing.checking.account\":\"A11\",\"Duration.in.month\":42,\"Credit.history\":\"A32\",\"Savings.account.bonds\":\"A61\"},{\"Status.of.existing.checking.account\":\"A11\",\"Duration.in.month\":24,\"Credit.history\":\"A33\",\"Savings.account.bonds\":\"A61\"}]\n"
     ]
    }
   ],
   "source": [
    "# Convert the dataframe to the following the required format:\n",
    "input_data = input_formatter(selected_input_data.head(5))\n",
    "print(input_data['input'])"
   ]
  },
  {
   "cell_type": "code",
   "execution_count": 7,
   "metadata": {
    "_datascience": {},
    "collapsed": false
   },
   "outputs": [],
   "source": [
    "# Just testing post request independent of deploy\n",
    "r = requests.post(deployed_model_uri, json=input_data)"
   ]
  },
  {
   "cell_type": "code",
   "execution_count": 8,
   "metadata": {
    "_datascience": {},
    "collapsed": false
   },
   "outputs": [],
   "source": [
    "dep_model = DeployedModel(deployed_model_uri,\n",
    "                         input_formatter,\n",
    "                         output_formatter,\n",
    "                         examples=selected_input_data.head(5))"
   ]
  },
  {
   "cell_type": "code",
   "execution_count": 47,
   "metadata": {
    "_datascience": {},
    "collapsed": false
   },
   "outputs": [
    {
     "data": {
      "text/plain": [
       "<matplotlib.axes._subplots.AxesSubplot at 0x7faf4dc1d390>"
      ]
     },
     "execution_count": 47,
     "metadata": {},
     "output_type": "execute_result"
    },
    {
     "data": {
      "image/png": "[encoded data removed]",
      "text/plain": [
       "<matplotlib.figure.Figure at 0x7faf4dc13c50>"
      ]
     },
     "metadata": {},
     "output_type": "display_data"
    }
   ],
   "source": [
    "feature_names = np.array(selected_input_data.columns)\n",
    "interpreter = Interpretation(log_level=30)\n",
    "interpreter.load_data(selected_input_data.head(100), feature_names=feature_names)\n",
    "\n",
    "plots = interpreter.partial_dependence.plot_partial_dependence(['Duration.in.month'],\n",
    "                                                         dep_model,\n",
    "                                                         with_variance=True, \n",
    "                                                         sampling_strategy='random-choice',\n",
    "                                                         n_jobs=4, grid_resolution=10, n_samples = 500, sample=True)\n",
    "ax = plots[0][1]\n",
    "ice_.plot(ax=ax,legend=False)\n"
   ]
  },
  {
   "cell_type": "code",
   "execution_count": 34,
   "metadata": {
    "_datascience": {},
    "collapsed": false,
    "scrolled": false
   },
   "outputs": [],
   "source": [
    "ice = interpreter.ice.partial_dependence(['Duration.in.month'],\n",
    "                                        dep_model,\n",
    "                                        sampling_strategy='random-choice',\n",
    "                                        n_jobs=1, grid_resolution=10, n_samples = 500, sample=True)"
   ]
  },
  {
   "cell_type": "code",
   "execution_count": 35,
   "metadata": {
    "_datascience": {},
    "collapsed": false
   },
   "outputs": [],
   "source": [
    "ice_ = [item for sublist in ice for item in sublist]\n",
    "ice_ = pd.DataFrame(ice_).set_index(['feature: Duration.in.month','index']).unstack(-1)"
   ]
  },
  {
   "cell_type": "code",
   "execution_count": 44,
   "metadata": {
    "_datascience": {},
    "collapsed": false
   },
   "outputs": [
    {
     "data": {
      "text/plain": [
       "<matplotlib.axes._subplots.AxesSubplot at 0x7faf5c546e90>"
      ]
     },
     "execution_count": 44,
     "metadata": {},
     "output_type": "execute_result"
    },
    {
     "data": {
      "image/png": "[encoded data removed]",
      "text/plain": [
       "<matplotlib.figure.Figure at 0x7faf4ff72590>"
      ]
     },
     "metadata": {},
     "output_type": "display_data"
    }
   ],
   "source": [
    "ax = ice_.plot(legend=False)\n",
    "ice_.T.mean().plot(ax=ax, linestyle = '--')"
   ]
  },
  {
   "cell_type": "code",
   "execution_count": 40,
   "metadata": {
    "_datascience": {},
    "collapsed": false
   },
   "outputs": [
    {
     "data": {
      "text/plain": [
       "feature: Duration.in.month\n",
       "6.0     0.718787\n",
       "10.0    0.718787\n",
       "12.0    0.718787\n",
       "18.0    0.718787\n",
       "21.8    0.718787\n",
       "24.0    0.595574\n",
       "31.5    0.595574\n",
       "36.0    0.595574\n",
       "48.0    0.595574\n",
       "dtype: float64"
      ]
     },
     "execution_count": 40,
     "metadata": {},
     "output_type": "execute_result"
    }
   ],
   "source": [
    "ice_.T.mean()"
   ]
  },
  {
   "cell_type": "code",
   "execution_count": null,
   "metadata": {
    "_datascience": {},
    "collapsed": true
   },
   "outputs": [],
   "source": []
  }
 ],
 "metadata": {
  "_datascience": {},
  "celltoolbar": "Slideshow",
  "kernelspec": {
   "display_name": "Python 2",
   "language": "python",
   "name": "python2"
  },
  "language_info": {
   "codemirror_mode": {
    "name": "ipython",
    "version": 2
   },
   "file_extension": ".py",
   "mimetype": "text/x-python",
   "name": "python",
   "nbconvert_exporter": "python",
   "pygments_lexer": "ipython2",
   "version": "2.7.6"
  }
 },
 "nbformat": 4,
 "nbformat_minor": 0
}
