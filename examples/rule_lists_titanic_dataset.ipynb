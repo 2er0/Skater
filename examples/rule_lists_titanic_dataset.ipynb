{
 "cells": [
  {
   "cell_type": "code",
   "execution_count": 22,
   "metadata": {
    "collapsed": true
   },
   "outputs": [],
   "source": [
    "import pandas as pd\n",
    "import numpy as np\n",
    "from sklearn import metrics\n",
    "from itertools import cycle\n",
    "import matplotlib.pyplot as plt\n",
    "from sklearn.model_selection import train_test_split\n",
    "from sklearn.model_selection import validation_curve\n",
    "\n",
    "from skater.core.global_interpretation.rule_list import SBRL\n",
    "%matplotlib inline"
   ]
  },
  {
   "cell_type": "code",
   "execution_count": 2,
   "metadata": {},
   "outputs": [
    {
     "name": "stdout",
     "output_type": "stream",
     "text": [
      "   PassengerId  Survived  Pclass  \\\n",
      "0            1         0       3   \n",
      "1            2         1       1   \n",
      "2            3         1       3   \n",
      "3            4         1       1   \n",
      "4            5         0       3   \n",
      "\n",
      "                                                Name     Sex   Age  SibSp  \\\n",
      "0                            Braund, Mr. Owen Harris    male  22.0      1   \n",
      "1  Cumings, Mrs. John Bradley (Florence Briggs Th...  female  38.0      1   \n",
      "2                             Heikkinen, Miss. Laina  female  26.0      0   \n",
      "3       Futrelle, Mrs. Jacques Heath (Lily May Peel)  female  35.0      1   \n",
      "4                           Allen, Mr. William Henry    male  35.0      0   \n",
      "\n",
      "   Parch            Ticket     Fare Cabin Embarked  \n",
      "0      0         A/5 21171   7.2500   NaN        S  \n",
      "1      0          PC 17599  71.2833   C85        C  \n",
      "2      0  STON/O2. 3101282   7.9250   NaN        S  \n",
      "3      0            113803  53.1000  C123        S  \n",
      "4      0            373450   8.0500   NaN        S  \n"
     ]
    },
    {
     "data": {
      "text/html": [
       "<div>\n",
       "<style>\n",
       "    .dataframe thead tr:only-child th {\n",
       "        text-align: right;\n",
       "    }\n",
       "\n",
       "    .dataframe thead th {\n",
       "        text-align: left;\n",
       "    }\n",
       "\n",
       "    .dataframe tbody tr th {\n",
       "        vertical-align: top;\n",
       "    }\n",
       "</style>\n",
       "<table border=\"1\" class=\"dataframe\">\n",
       "  <thead>\n",
       "    <tr style=\"text-align: right;\">\n",
       "      <th></th>\n",
       "      <th>PassengerId</th>\n",
       "      <th>Survived</th>\n",
       "      <th>Pclass</th>\n",
       "      <th>Age</th>\n",
       "      <th>SibSp</th>\n",
       "      <th>Parch</th>\n",
       "      <th>Fare</th>\n",
       "    </tr>\n",
       "  </thead>\n",
       "  <tbody>\n",
       "    <tr>\n",
       "      <th>count</th>\n",
       "      <td>891.000000</td>\n",
       "      <td>891.000000</td>\n",
       "      <td>891.000000</td>\n",
       "      <td>714.000000</td>\n",
       "      <td>891.000000</td>\n",
       "      <td>891.000000</td>\n",
       "      <td>891.000000</td>\n",
       "    </tr>\n",
       "    <tr>\n",
       "      <th>mean</th>\n",
       "      <td>446.000000</td>\n",
       "      <td>0.383838</td>\n",
       "      <td>2.308642</td>\n",
       "      <td>29.699118</td>\n",
       "      <td>0.523008</td>\n",
       "      <td>0.381594</td>\n",
       "      <td>32.204208</td>\n",
       "    </tr>\n",
       "    <tr>\n",
       "      <th>std</th>\n",
       "      <td>257.353842</td>\n",
       "      <td>0.486592</td>\n",
       "      <td>0.836071</td>\n",
       "      <td>14.526497</td>\n",
       "      <td>1.102743</td>\n",
       "      <td>0.806057</td>\n",
       "      <td>49.693429</td>\n",
       "    </tr>\n",
       "    <tr>\n",
       "      <th>min</th>\n",
       "      <td>1.000000</td>\n",
       "      <td>0.000000</td>\n",
       "      <td>1.000000</td>\n",
       "      <td>0.420000</td>\n",
       "      <td>0.000000</td>\n",
       "      <td>0.000000</td>\n",
       "      <td>0.000000</td>\n",
       "    </tr>\n",
       "    <tr>\n",
       "      <th>25%</th>\n",
       "      <td>223.500000</td>\n",
       "      <td>0.000000</td>\n",
       "      <td>2.000000</td>\n",
       "      <td>20.125000</td>\n",
       "      <td>0.000000</td>\n",
       "      <td>0.000000</td>\n",
       "      <td>7.910400</td>\n",
       "    </tr>\n",
       "    <tr>\n",
       "      <th>50%</th>\n",
       "      <td>446.000000</td>\n",
       "      <td>0.000000</td>\n",
       "      <td>3.000000</td>\n",
       "      <td>28.000000</td>\n",
       "      <td>0.000000</td>\n",
       "      <td>0.000000</td>\n",
       "      <td>14.454200</td>\n",
       "    </tr>\n",
       "    <tr>\n",
       "      <th>75%</th>\n",
       "      <td>668.500000</td>\n",
       "      <td>1.000000</td>\n",
       "      <td>3.000000</td>\n",
       "      <td>38.000000</td>\n",
       "      <td>1.000000</td>\n",
       "      <td>0.000000</td>\n",
       "      <td>31.000000</td>\n",
       "    </tr>\n",
       "    <tr>\n",
       "      <th>max</th>\n",
       "      <td>891.000000</td>\n",
       "      <td>1.000000</td>\n",
       "      <td>3.000000</td>\n",
       "      <td>80.000000</td>\n",
       "      <td>8.000000</td>\n",
       "      <td>6.000000</td>\n",
       "      <td>512.329200</td>\n",
       "    </tr>\n",
       "  </tbody>\n",
       "</table>\n",
       "</div>"
      ],
      "text/plain": [
       "       PassengerId    Survived      Pclass         Age       SibSp  \\\n",
       "count   891.000000  891.000000  891.000000  714.000000  891.000000   \n",
       "mean    446.000000    0.383838    2.308642   29.699118    0.523008   \n",
       "std     257.353842    0.486592    0.836071   14.526497    1.102743   \n",
       "min       1.000000    0.000000    1.000000    0.420000    0.000000   \n",
       "25%     223.500000    0.000000    2.000000   20.125000    0.000000   \n",
       "50%     446.000000    0.000000    3.000000   28.000000    0.000000   \n",
       "75%     668.500000    1.000000    3.000000   38.000000    1.000000   \n",
       "max     891.000000    1.000000    3.000000   80.000000    8.000000   \n",
       "\n",
       "            Parch        Fare  \n",
       "count  891.000000  891.000000  \n",
       "mean     0.381594   32.204208  \n",
       "std      0.806057   49.693429  \n",
       "min      0.000000    0.000000  \n",
       "25%      0.000000    7.910400  \n",
       "50%      0.000000   14.454200  \n",
       "75%      0.000000   31.000000  \n",
       "max      6.000000  512.329200  "
      ]
     },
     "execution_count": 2,
     "metadata": {},
     "output_type": "execute_result"
    }
   ],
   "source": [
    "titanic_df = pd.read_csv(\"/home/ubuntu/pramit/Skater/examples/data/titanic/train.csv\")\n",
    "print(titanic_df.head())\n",
    "titanic_df.describe()"
   ]
  },
  {
   "cell_type": "code",
   "execution_count": 3,
   "metadata": {},
   "outputs": [
    {
     "name": "stdout",
     "output_type": "stream",
     "text": [
      "   PassengerId  Survived  Pclass  \\\n",
      "0            1         0       3   \n",
      "1            2         1       1   \n",
      "2            3         1       3   \n",
      "3            4         1       1   \n",
      "4            5         0       3   \n",
      "\n",
      "                                                Name     Sex   Age  SibSp  \\\n",
      "0                            Braund, Mr. Owen Harris    male  22.0      1   \n",
      "1  Cumings, Mrs. John Bradley (Florence Briggs Th...  female  38.0      1   \n",
      "2                             Heikkinen, Miss. Laina  female  26.0      0   \n",
      "3       Futrelle, Mrs. Jacques Heath (Lily May Peel)  female  35.0      1   \n",
      "4                           Allen, Mr. William Henry    male  35.0      0   \n",
      "\n",
      "   Parch            Ticket     Fare Cabin Embarked  Sex_Encoded  \\\n",
      "0      0         A/5 21171   7.2500   NaN        S            1   \n",
      "1      0          PC 17599  71.2833   C85        C            0   \n",
      "2      0  STON/O2. 3101282   7.9250   NaN        S            0   \n",
      "3      0            113803  53.1000  C123        S            0   \n",
      "4      0            373450   8.0500   NaN        S            1   \n",
      "\n",
      "   Embarked_Encoded  \n",
      "0                 2  \n",
      "1                 0  \n",
      "2                 2  \n",
      "3                 2  \n",
      "4                 2  \n",
      "   PassengerId  Survived  Pclass   Age  SibSp  Parch     Fare  Sex_Encoded  \\\n",
      "0            1         0       3  22.0      1      0   7.2500            1   \n",
      "1            2         1       1  38.0      1      0  71.2833            0   \n",
      "2            3         1       3  26.0      0      0   7.9250            0   \n",
      "3            4         1       1  35.0      1      0  53.1000            0   \n",
      "4            5         0       3  35.0      0      0   8.0500            1   \n",
      "\n",
      "   Embarked_Encoded  \n",
      "0                 2  \n",
      "1                 0  \n",
      "2                 2  \n",
      "3                 2  \n",
      "4                 2  \n"
     ]
    }
   ],
   "source": [
    "# Quick data transformation and cleaning ...\n",
    "titanic_df[\"Sex\"] = titanic_df[\"Sex\"].astype('category')\n",
    "titanic_df[\"Sex_Encoded\"] = titanic_df[\"Sex\"].cat.codes\n",
    "#titanic_df[\"PassengerId\"] = titanic_df[\"PassengerId\"].astype('int')\n",
    "\n",
    "titanic_df[\"Embarked\"] = titanic_df[\"Embarked\"].astype('category')\n",
    "titanic_df[\"Embarked_Encoded\"] = titanic_df[\"Embarked\"].cat.codes\n",
    "print(titanic_df.head(5))\n",
    "titanic_df_clean = titanic_df.drop(['Ticket','Cabin', 'Name', 'Sex', 'Embarked'], axis=1)\n",
    "# # Remove NaN values\n",
    "titanic_df_clean = titanic_df_clean.dropna() \n",
    "print(titanic_df_clean.head(5))"
   ]
  },
  {
   "cell_type": "code",
   "execution_count": 4,
   "metadata": {
    "collapsed": true
   },
   "outputs": [],
   "source": [
    "y = titanic_df_clean['Survived']"
   ]
  },
  {
   "cell_type": "code",
   "execution_count": 5,
   "metadata": {},
   "outputs": [
    {
     "name": "stdout",
     "output_type": "stream",
     "text": [
      "   PassengerId  Pclass   Age  SibSp  Parch     Fare  Sex_Encoded  \\\n",
      "0            1       3  22.0      1      0   7.2500            1   \n",
      "1            2       1  38.0      1      0  71.2833            0   \n",
      "2            3       3  26.0      0      0   7.9250            0   \n",
      "3            4       1  35.0      1      0  53.1000            0   \n",
      "4            5       3  35.0      0      0   8.0500            1   \n",
      "\n",
      "   Embarked_Encoded  label  \n",
      "0                 2      0  \n",
      "1                 0      1  \n",
      "2                 2      1  \n",
      "3                 2      1  \n",
      "4                 2      0  \n",
      "<class 'str'>\n",
      "['PassengerId', 'Pclass', 'Age', 'SibSp', 'Parch', 'Fare', 'Sex_Encoded', 'Embarked_Encoded', 'label']\n"
     ]
    }
   ],
   "source": [
    "data = titanic_df_clean.drop(['Survived'], axis=1)\n",
    "data['label'] = y\n",
    "print(data.head())\n",
    "# Lets trying building an Interpretable Model\n",
    "feature_labels = list(data.columns)\n",
    "print(type(feature_labels[0]))\n",
    "print(feature_labels)"
   ]
  },
  {
   "cell_type": "code",
   "execution_count": 6,
   "metadata": {},
   "outputs": [
    {
     "name": "stdout",
     "output_type": "stream",
     "text": [
      "(571, 9)\n",
      "(143, 9)\n",
      "(571,)\n",
      "(143,)\n"
     ]
    }
   ],
   "source": [
    "Xtrain, Xtest, ytrain, ytest = train_test_split(data, y, test_size=0.20, random_state=0)\n",
    "print(Xtrain.shape)\n",
    "print(Xtest.shape)\n",
    "print(ytrain.shape)\n",
    "print(ytest.shape)"
   ]
  },
  {
   "cell_type": "code",
   "execution_count": 7,
   "metadata": {},
   "outputs": [
    {
     "name": "stdout",
     "output_type": "stream",
     "text": [
      "Eclat\n",
      "\n",
      "\n",
      "parameter specification:\n",
      "\n",
      "\n",
      " tidLists\n",
      " support\n",
      " minlen\n",
      " maxlen\n",
      "            target\n",
      "   ext\n",
      "\n",
      "\n",
      "    FALSE\n",
      "     0.1\n",
      "      1\n",
      "      8\n",
      " frequent itemsets\n",
      " FALSE\n",
      "\n",
      "\n",
      "\n",
      "algorithmic control:\n",
      "\n",
      "\n",
      " sparse\n",
      " sort\n",
      " verbose\n",
      "\n",
      "\n",
      "      7\n",
      "   -2\n",
      "    TRUE\n",
      "\n",
      "\n",
      "\n",
      "Absolute minimum support count:\n",
      " \n",
      "22\n",
      " \n",
      "\n",
      "\n",
      "\n",
      "create itemset ... \n",
      "\n",
      "set transactions ...\n",
      "[428 item(s),\n",
      " 226 transaction(s)] done \n",
      "[0.00s].\n",
      "\n",
      "\n",
      "sorting and recoding items ... \n",
      "[12 item(s)] \n",
      "done [0.00s].\n",
      "\n",
      "\n",
      "creating bit matrix ... \n",
      "[12 row(s), 226 column(s)] \n",
      "done [0.00s].\n",
      "\n",
      "writing  ... \n",
      "[96 set(s)] done \n",
      "[0.00s].\n",
      "\n",
      "Creating S4 object  ... \n",
      "done \n",
      "[0.00s].\n",
      "\n",
      "Eclat\n",
      "\n",
      "\n",
      "parameter specification:\n",
      "\n",
      "\n",
      " tidLists\n",
      " support\n",
      " minlen\n",
      " maxlen\n",
      "            target\n",
      "   ext\n",
      "\n",
      "\n",
      "    FALSE\n",
      "     0.1\n",
      "      1\n",
      "      8\n",
      " frequent itemsets\n",
      " FALSE\n",
      "\n",
      "\n",
      "\n",
      "algorithmic control:\n",
      "\n",
      "\n",
      " sparse\n",
      " sort\n",
      " verbose\n",
      "\n",
      "\n",
      "      7\n",
      "   -2\n",
      "    TRUE\n",
      "\n",
      "\n",
      "\n",
      "Absolute minimum support count:\n",
      " \n",
      "34\n",
      " \n",
      "\n",
      "\n",
      "\n",
      "create itemset ... \n",
      "\n",
      "set transactions ...\n",
      "[567 item(s),\n",
      " 345 transaction(s)] done \n",
      "[0.00s].\n",
      "\n",
      "\n",
      "sorting and recoding items ... \n",
      "[10 item(s)] \n",
      "done [0.00s].\n",
      "\n",
      "\n",
      "creating bit matrix ... \n",
      "[10 row(s), 345 column(s)] \n",
      "done [0.00s].\n",
      "\n",
      "writing  ... \n",
      "[62 set(s)] done \n",
      "[0.00s].\n",
      "\n",
      "Creating S4 object  ... \n",
      "done \n",
      "[0.00s].\n",
      "\n"
     ]
    }
   ],
   "source": [
    "sbrl_inst = SBRL()\n",
    "model = sbrl_inst.fit(Xtrain, ytrain)"
   ]
  },
  {
   "cell_type": "code",
   "execution_count": 9,
   "metadata": {},
   "outputs": [
    {
     "name": "stdout",
     "output_type": "stream",
     "text": [
      "The rules list is : \n",
      "\n",
      "If      {Pclass=3,Sex_Encoded=0} (rule[68]) then positive probability = 0.43023256\n",
      "\n",
      "else if {Sex_Encoded=0} (rule[83]) then positive probability = 0.95081967\n",
      "\n",
      "else if {Pclass=2,Parch=0} (rule[44]) then positive probability = 0.07246377\n",
      "\n",
      "else if {Pclass=3} (rule[80]) then positive probability = 0.16746411\n",
      "\n",
      "else  (default rule)  then positive probability = 0.40000000\n",
      "\n"
     ]
    }
   ],
   "source": [
    "# Encoding rules: 'male=1; female=0'\n",
    "sbrl_inst.print_model()"
   ]
  },
  {
   "cell_type": "code",
   "execution_count": 23,
   "metadata": {},
   "outputs": [
    {
     "name": "stdout",
     "output_type": "stream",
     "text": [
      "     0    1\n",
      "0  0.7  0.3\n"
     ]
    }
   ],
   "source": [
    "# Training a regular Tree bases ensemble learner using Random Forest\n",
    "from sklearn.ensemble import RandomForestClassifier\n",
    "y_train = ytrain\n",
    "y_test = ytest\n",
    "# droping the previously added 'label' column\n",
    "x_train = Xtrain.drop(['label'], axis=1)\n",
    "x_test = Xtest.drop(['label'], axis=1)\n",
    "\n",
    "rf_model = RandomForestClassifier().fit(x_train, y_train)\n",
    "results_test_rf = pd.DataFrame(rf_model.predict_proba(x_test))\n",
    "print(results_test_rf.head(1))"
   ]
  },
  {
   "cell_type": "code",
   "execution_count": 24,
   "metadata": {},
   "outputs": [],
   "source": [
    "param_range = [1, 10, 20, 30, 40, 50, 60, 100, 200, 300, 400]\n",
    "\n",
    "train_scores, test_scores = validation_curve(\n",
    "    RandomForestClassifier(), x_train, ytrain, param_name=\"n_estimators\", param_range=param_range,\n",
    "    cv=4, scoring=\"accuracy\", n_jobs=3)"
   ]
  },
  {
   "cell_type": "code",
   "execution_count": 25,
   "metadata": {},
   "outputs": [
    {
     "data": {
      "image/png": "[encoded data removed]",
      "text/plain": [
       "<matplotlib.figure.Figure at 0x7f192eb4bb00>"
      ]
     },
     "metadata": {},
     "output_type": "display_data"
    }
   ],
   "source": [
    "train_scores_mean = np.mean(train_scores, axis=1)\n",
    "train_scores_std = np.std(train_scores, axis=1)\n",
    "test_scores_mean = np.mean(test_scores, axis=1)\n",
    "test_scores_std = np.std(test_scores, axis=1)\n",
    "\n",
    "plt.title(\"Validation Curve with Random Forest\")\n",
    "plt.xlabel(\"$\\number of trees$\")\n",
    "plt.ylabel(\"Score\")\n",
    "plt.ylim(0.0, 1.1)\n",
    "lw = 2\n",
    "plt.semilogx(param_range, train_scores_mean, label=\"Training score\",\n",
    "             color=\"darkorange\", lw=lw)\n",
    "plt.fill_between(param_range, train_scores_mean - train_scores_std,\n",
    "                 train_scores_mean + train_scores_std, alpha=0.2,\n",
    "                 color=\"darkorange\", lw=lw)\n",
    "plt.semilogx(param_range, test_scores_mean, label=\"Cross-validation score\",\n",
    "             color=\"navy\", lw=lw)\n",
    "plt.fill_between(param_range, test_scores_mean - test_scores_std,\n",
    "                 test_scores_mean + test_scores_std, alpha=0.2,\n",
    "                 color=\"navy\", lw=lw)\n",
    "plt.legend(loc=\"best\")\n",
    "plt.show()"
   ]
  },
  {
   "cell_type": "code",
   "execution_count": 26,
   "metadata": {
    "collapsed": true
   },
   "outputs": [],
   "source": [
    "rf_model = RandomForestClassifier(n_estimators=20).fit(x_train, y_train)\n",
    "results_test_rf = pd.DataFrame(rf_model.predict_proba(x_test))"
   ]
  },
  {
   "cell_type": "code",
   "execution_count": 27,
   "metadata": {},
   "outputs": [
    {
     "name": "stdout",
     "output_type": "stream",
     "text": [
      "0.859671677215\n",
      "0.864022943038\n"
     ]
    }
   ],
   "source": [
    "# Evaluating the Random Forest vs BRL\n",
    "results_test_sbrl = sbrl_inst.predict_prob(Xtest)\n",
    "fpr_sbrl, tpr_sbrl, thresholds_sbrl = metrics.roc_curve(ytest ,results_test_sbrl[1], pos_label=1)\n",
    "roc_auc_sbrl = metrics.auc(fpr_sbrl, tpr_sbrl)\n",
    "print(roc_auc_sbrl)\n",
    "\n",
    "fpr_rf, tpr_rf, thresholds_rf = metrics.roc_curve(ytest ,results_test_rf[1], pos_label=1)\n",
    "roc_auc_rf = metrics.auc(fpr_rf, tpr_rf)\n",
    "print(roc_auc_rf)"
   ]
  },
  {
   "cell_type": "code",
   "execution_count": 28,
   "metadata": {},
   "outputs": [],
   "source": [
    "fpr_list = [fpr_rf, fpr_sbrl]\n",
    "tpr_list = [tpr_rf, tpr_sbrl]\n",
    "roc_auc_list = [roc_auc_rf, roc_auc_sbrl]\n",
    "label_list = ['Random Forest', 'Decision Rules']"
   ]
  },
  {
   "cell_type": "code",
   "execution_count": 29,
   "metadata": {},
   "outputs": [
    {
     "data": {
      "text/plain": [
       "<matplotlib.legend.Legend at 0x7f192843d630>"
      ]
     },
     "execution_count": 29,
     "metadata": {},
     "output_type": "execute_result"
    },
    {
     "data": {
      "image/png": "[encoded data removed]",
      "text/plain": [
       "<matplotlib.figure.Figure at 0x7f19284c7080>"
      ]
     },
     "metadata": {},
     "output_type": "display_data"
    }
   ],
   "source": [
    "plt.style.use(['seaborn'])\n",
    "plt.figure(figsize=(10,10))\n",
    "plt.rc('font', size=12)\n",
    "lw = 2\n",
    "colors = ['green', 'orchid']\n",
    "for i in range(len(fpr_list)):\n",
    "    plt.plot(fpr_list[i], tpr_list[i], color=colors[i],\n",
    "         lw=lw, label='ROC curve {0} (area = {1:0.2f})'.format(label_list[i], roc_auc_list[i]), )\n",
    "plt.plot([0, 1], [0, 1], color='navy', lw=3, linestyle='--')\n",
    "\n",
    "plt.xlim([0.0, 1.0])\n",
    "plt.ylim([0.0, 1.05])\n",
    "plt.xlabel('False Positive Rate', fontsize=18)\n",
    "plt.ylabel('True Positive Rate', fontsize=18)\n",
    "plt.title('Receiver operating characteristic', fontsize=18)\n",
    "plt.legend(loc=\"lower right\")"
   ]
  },
  {
   "cell_type": "code",
   "execution_count": null,
   "metadata": {
    "collapsed": true
   },
   "outputs": [],
   "source": []
  }
 ],
 "metadata": {
  "kernelspec": {
   "display_name": "Python 3",
   "language": "python",
   "name": "python3"
  },
  "language_info": {
   "codemirror_mode": {
    "name": "ipython",
    "version": 3
   },
   "file_extension": ".py",
   "mimetype": "text/x-python",
   "name": "python",
   "nbconvert_exporter": "python",
   "pygments_lexer": "ipython3",
   "version": "3.6.3"
  }
 },
 "nbformat": 4,
 "nbformat_minor": 2
}
