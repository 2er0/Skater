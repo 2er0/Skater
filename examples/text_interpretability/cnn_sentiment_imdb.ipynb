{
 "cells": [
  {
   "cell_type": "code",
   "execution_count": 1,
   "metadata": {},
   "outputs": [
    {
     "name": "stderr",
     "output_type": "stream",
     "text": [
      "/home/ubuntu/anaconda3/lib/python3.6/site-packages/h5py/__init__.py:34: FutureWarning: Conversion of the second argument of issubdtype from `float` to `np.floating` is deprecated. In future, it will be treated as `np.float64 == np.dtype(float).type`.\n",
      "  from ._conv import register_converters as _register_converters\n",
      "Using TensorFlow backend.\n"
     ]
    },
    {
     "name": "stdout",
     "output_type": "stream",
     "text": [
      "WARNING:tensorflow:From /home/ubuntu/anaconda3/lib/python3.6/site-packages/tensorflow/contrib/learn/python/learn/datasets/base.py:198: retry (from tensorflow.contrib.learn.python.learn.datasets.base) is deprecated and will be removed in a future version.\n",
      "Instructions for updating:\n",
      "Use the retry module or similar alternatives.\n"
     ]
    }
   ],
   "source": [
    "from keras.preprocessing import sequence\n",
    "from keras.models import Sequential, Model, load_model, model_from_yaml\n",
    "from keras.layers import Dense, Dropout, Activation\n",
    "from keras.layers import Embedding\n",
    "from keras.layers import Conv1D, GlobalMaxPooling1D\n",
    "from keras.datasets import imdb\n",
    "import tensorflow as tf\n",
    "from keras import backend as K\n",
    "\n",
    "tf.logging.set_verbosity(tf.logging.ERROR)\n",
    "import numpy as np\n",
    "import pandas as pd\n",
    "\n",
    "from skater.core.local_interpretation.dnni.deep_interpreter import DeepInterpreter\n",
    "from skater.core.visualizer.text_relevance_visualizer import build_visual_explainer, show_in_notebook\n",
    "from skater.util.dataops import convert_dataframe_to_dict"
   ]
  },
  {
   "cell_type": "code",
   "execution_count": 2,
   "metadata": {
    "collapsed": true
   },
   "outputs": [],
   "source": [
    "# Create a TensorFlow session and register it with Keras. It will use this session to initialize all the variables\n",
    "sess = tf.Session()\n",
    "K.set_session(sess)"
   ]
  },
  {
   "cell_type": "code",
   "execution_count": 3,
   "metadata": {
    "collapsed": true
   },
   "outputs": [],
   "source": [
    "# set parameters\n",
    "max_features = 20000\n",
    "maxlen = 80\n",
    "batch_size = 32\n",
    "embedding_dims = 128\n",
    "filters = 250\n",
    "kernel_size = 3\n",
    "hidden_dims = 250\n",
    "epochs = 3"
   ]
  },
  {
   "cell_type": "markdown",
   "metadata": {},
   "source": [
    "### Load the Dataset\n",
    "#### IMDB dataset: \n",
    "##### 1. http://ai.stanford.edu/~amaas//data/sentiment/\n",
    "##### 2. http://ai.stanford.edu/~ang/papers/acl11-WordVectorsSentimentAnalysis.pdf ( Section 4.1 )"
   ]
  },
  {
   "cell_type": "code",
   "execution_count": 4,
   "metadata": {},
   "outputs": [
    {
     "name": "stdout",
     "output_type": "stream",
     "text": [
      "Loading data...\n",
      "25000 train sequences\n",
      "25000 test sequences\n"
     ]
    }
   ],
   "source": [
    "# The Dataset contains 50,000 reviews(Train:25,000 and Test:25,000)\n",
    "# More info about the dataset: https://keras.io/datasets/#imdb-movie-reviews-sentiment-classification\n",
    "\n",
    "print('Loading data...')\n",
    "(x_train, y_train), (x_test, y_test) = imdb.load_data(num_words=max_features)\n",
    "print(len(x_train), 'train sequences')\n",
    "print(len(x_test), 'test sequences')"
   ]
  },
  {
   "cell_type": "code",
   "execution_count": 5,
   "metadata": {},
   "outputs": [
    {
     "name": "stdout",
     "output_type": "stream",
     "text": [
      "<START> shown in australia as <UNK> this incredibly bad movie is so bad that you become <UNK> and have to watch it to the end just to see if it could get any worse and it does the storyline is so predictable it seems written by a high school dramatics class the sets are pathetic but marginally better than the <UNK> and the acting is wooden br br the infant <UNK> seems to have been stolen from the props cupboard of <UNK> <UNK> there didn't seem to be a single original idea in the whole movie br br i found this movie to be so bad that i laughed most of the way through br br malcolm mcdowell should hang his head in shame he obviously needed the money\n",
      "\n",
      "Length: 129\n"
     ]
    }
   ],
   "source": [
    "# https://stackoverflow.com/questions/42821330/restore-original-text-from-keras-s-imdb-dataset\n",
    "# Reading raw text\n",
    "INDEX_FROM = 3\n",
    "# Get the {Word: Index} mapping\n",
    "word_to_id = imdb.get_word_index()\n",
    "\n",
    "def adjust_word_id_offset(word_id_dict):\n",
    "    word_id_dict = {k:(v+INDEX_FROM) for k,v in word_id_dict.items()}\n",
    "    word_id_dict[\"<PAD>\"] = 0\n",
    "    word_id_dict[\"<START>\"] = 1\n",
    "    word_id_dict[\"<UNK>\"] = 2\n",
    "    return word_id_dict\n",
    "\n",
    "w_to_id = adjust_word_id_offset(word_to_id)\n",
    "\n",
    "def get_raw_txt(word_id_dict, input_data):\n",
    "    id_to_word = {value:key for key,value in word_id_dict.items()}\n",
    "    return ' '.join([(id_to_word[_id] if _id in id_to_word else 'None') for _id in input_data])\n",
    "\n",
    "r_t = get_raw_txt(w_to_id, x_train[20])\n",
    "print(r_t + \"\\n\")\n",
    "print(\"Length: {}\".format(len(r_t.split(' '))))"
   ]
  },
  {
   "cell_type": "code",
   "execution_count": 6,
   "metadata": {},
   "outputs": [
    {
     "name": "stdout",
     "output_type": "stream",
     "text": [
      "Pad sequences (samples x time)\n",
      "x_train shape: (25000, 80)\n",
      "x_test shape: (25000, 80)\n"
     ]
    }
   ],
   "source": [
    "print('Pad sequences (samples x time)')\n",
    "x_train = sequence.pad_sequences(x_train, maxlen=maxlen)\n",
    "x_test = sequence.pad_sequences(x_test, maxlen=maxlen)\n",
    "print('x_train shape:', x_train.shape)\n",
    "print('x_test shape:', x_test.shape)"
   ]
  },
  {
   "cell_type": "code",
   "execution_count": 7,
   "metadata": {},
   "outputs": [
    {
     "name": "stdout",
     "output_type": "stream",
     "text": [
      "dramatics class the sets are pathetic but marginally better than the <UNK> and the acting is wooden br br the infant <UNK> seems to have been stolen from the props cupboard of <UNK> <UNK> there didn't seem to be a single original idea in the whole movie br br i found this movie to be so bad that i laughed most of the way through br br malcolm mcdowell should hang his head in shame he obviously needed the money\n",
      "\n",
      "Length: 80\n"
     ]
    }
   ],
   "source": [
    "# Raw text post selecting the top most frequently occurring words\n",
    "index_train = 20\n",
    "r_t_r = get_raw_txt(w_to_id, x_train[index_train])\n",
    "print(r_t_r + \"\\n\")\n",
    "print(\"Length: {}\".format(len(r_t_r.split(' '))))"
   ]
  },
  {
   "cell_type": "code",
   "execution_count": 14,
   "metadata": {},
   "outputs": [
    {
     "name": "stdout",
     "output_type": "stream",
     "text": [
      "Build model...\n"
     ]
    }
   ],
   "source": [
    "# Reference: https://github.com/keras-team/keras/blob/master/examples/imdb_cnn.py\n",
    "print('Build model...')\n",
    "model = Sequential()\n",
    "\n",
    "# we start off with an efficient embedding layer which maps\n",
    "# our vocab indices into embedding_dims dimensions\n",
    "model.add(Embedding(input_dim=max_features,\n",
    "                    output_dim=embedding_dims,\n",
    "                    input_length=maxlen))\n",
    "model.add(Dropout(0.2))\n",
    "\n",
    "# we add a Convolution1D, which will learn filters\n",
    "# word group filters of size filter_length:\n",
    "model.add(Conv1D(filters,\n",
    "                 kernel_size,\n",
    "                 padding='valid',\n",
    "                 activation='relu',\n",
    "                 strides=1))\n",
    "\n",
    "# we use max pooling:\n",
    "model.add(GlobalMaxPooling1D())\n",
    "\n",
    "# We add a vanilla hidden layer:\n",
    "model.add(Dense(hidden_dims))\n",
    "model.add(Dropout(0.2))\n",
    "model.add(Activation('relu'))\n",
    "\n",
    "# We project onto a single unit output layer, and squash it with a sigmoid:\n",
    "model.add(Dense(1))\n",
    "model.add(Activation('sigmoid'))"
   ]
  },
  {
   "cell_type": "code",
   "execution_count": 9,
   "metadata": {
    "collapsed": true
   },
   "outputs": [],
   "source": [
    "model.compile(loss='binary_crossentropy',\n",
    "              optimizer='adam',\n",
    "              metrics=['accuracy'])"
   ]
  },
  {
   "cell_type": "code",
   "execution_count": null,
   "metadata": {
    "collapsed": true
   },
   "outputs": [],
   "source": [
    "model.fit(x_train, y_train,\n",
    "          batch_size=batch_size,\n",
    "          epochs=epochs,\n",
    "          validation_data=(x_test, y_test))"
   ]
  },
  {
   "cell_type": "code",
   "execution_count": null,
   "metadata": {
    "collapsed": true
   },
   "outputs": [],
   "source": [
    "score, acc = model.evaluate(x_test, y_test,\n",
    "                            batch_size=batch_size)\n",
    "print('Test score:', score)\n",
    "print('Test accuracy:', acc)"
   ]
  },
  {
   "cell_type": "markdown",
   "metadata": {},
   "source": [
    "#### Summarize the Model"
   ]
  },
  {
   "cell_type": "code",
   "execution_count": null,
   "metadata": {
    "collapsed": true
   },
   "outputs": [],
   "source": [
    "model.summary()"
   ]
  },
  {
   "cell_type": "markdown",
   "metadata": {},
   "source": [
    "### Persist the model for future use"
   ]
  },
  {
   "cell_type": "code",
   "execution_count": null,
   "metadata": {
    "collapsed": true
   },
   "outputs": [],
   "source": [
    "# Save and persist the trained keras model in YAML format\n",
    "model_yaml = model.to_yaml()\n",
    "with open(\"model_cnn_imdb_{}.yaml\".format(epochs), \"w\") as yaml_file:\n",
    "    yaml_file.write(model_yaml)\n",
    "# serialize weights to HDF5\n",
    "model.save_weights(\"model_cnn_imdb_{}.h5\".format(epochs))\n",
    "print(\"Save model to disk\")"
   ]
  },
  {
   "cell_type": "markdown",
   "metadata": {},
   "source": [
    "### Load the saved model"
   ]
  },
  {
   "cell_type": "code",
   "execution_count": 8,
   "metadata": {},
   "outputs": [
    {
     "name": "stdout",
     "output_type": "stream",
     "text": [
      "Load model from disk\n",
      "24800/25000 [============================>.] - ETA: 0s\n",
      "\n",
      "\n",
      "Test score: 0.5148597713279724\n",
      "Test accuracy: 0.8376\n"
     ]
    }
   ],
   "source": [
    "# load the model\n",
    "# Learning phase is set to '0' as we are not training\n",
    "K.set_learning_phase(0)\n",
    "yaml_file = open('model_cnn_imdb_{}.yaml'.format(epochs), 'r')\n",
    "loaded_model_yaml = yaml_file.read()\n",
    "yaml_file.close()\n",
    "loaded_model = model_from_yaml(loaded_model_yaml)\n",
    "# load weights into new model\n",
    "loaded_model.load_weights('model_cnn_imdb_{}.h5'.format(epochs))\n",
    "print(\"Load model from disk\")\n",
    "\n",
    "\n",
    "# Validate model performance with the reload of persisted model\n",
    "loaded_model.compile(loss='binary_crossentropy',\n",
    "              optimizer='adam',\n",
    "              metrics=['accuracy'])\n",
    "score, acc = loaded_model.evaluate(x_test, y_test,\n",
    "                            batch_size=batch_size)\n",
    "print(\"\\n\\n\")\n",
    "print('Test score:', score)\n",
    "print('Test accuracy:', acc)"
   ]
  },
  {
   "cell_type": "markdown",
   "metadata": {},
   "source": [
    "### Lets ask Skater to help us in interpreting the model"
   ]
  },
  {
   "cell_type": "code",
   "execution_count": 9,
   "metadata": {},
   "outputs": [
    {
     "name": "stdout",
     "output_type": "stream",
     "text": [
      "learning_phase 0\n",
      "Load model from disk\n",
      "\r",
      "1/1 [==============================] - 0s"
     ]
    },
    {
     "name": "stderr",
     "output_type": "stream",
     "text": [
      "2018-04-23 06:46:36,842 - IntegratedGradients - INFO - Executing operations to compute relevance using Integrated Gradient\n"
     ]
    },
    {
     "name": "stdout",
     "output_type": "stream",
     "text": [
      "\n",
      "Predicted class : [[1]]\n",
      "Ground Truth: [1]\n"
     ]
    }
   ],
   "source": [
    "index = 1\n",
    "K.set_learning_phase(0)\n",
    "with DeepInterpreter(session=K.get_session()) as di:\n",
    "    print(\"learning_phase {}\".format(K.learning_phase()))\n",
    "    yaml_file = open('model_cnn_imdb_{}.yaml'.format(epochs), 'r')\n",
    "    loaded_model_yaml = yaml_file.read()\n",
    "    yaml_file.close()\n",
    "    \n",
    "    loaded_model = model_from_yaml(loaded_model_yaml)\n",
    "    # load weights into new model\n",
    "    loaded_model.load_weights('model_cnn_imdb_{}.h5'.format(epochs))\n",
    "    print(\"Load model from disk\")    \n",
    "    \n",
    "    # Input data\n",
    "    xs = np.array([x_test[index]])\n",
    "    ys = np.array([y_test[index]])\n",
    "\n",
    "    print('Predicted class : {}'.format(loaded_model.predict_classes(np.array([x_test[index]]))))\n",
    "    print('Ground Truth: {}'.format(ys))\n",
    "    \n",
    "    embedding_tensor = loaded_model.layers[0].output\n",
    "    input_tensor = loaded_model.layers[0].input\n",
    "    \n",
    "    embedding_out = di.session.run(embedding_tensor, {input_tensor: xs});\n",
    "    # Using Integrated Gradient for computing feature relevance\n",
    "    relevance_scores = di.explain('integ_grad', loaded_model.layers[-2].output * ys, \n",
    "                                  loaded_model.layers[1].input, embedding_out);"
   ]
  },
  {
   "cell_type": "code",
   "execution_count": 10,
   "metadata": {},
   "outputs": [
    {
     "data": {
      "text/plain": [
       "count    80.000000\n",
       "mean      0.000082\n",
       "std       0.007579\n",
       "min      -0.032703\n",
       "25%      -0.001871\n",
       "50%       0.000000\n",
       "75%       0.002395\n",
       "max       0.020106\n",
       "dtype: float64"
      ]
     },
     "execution_count": 10,
     "metadata": {},
     "output_type": "execute_result"
    }
   ],
   "source": [
    "# building a dataframe with columns 'features' and 'relevance scores'\n",
    "# Since, the relevance score is compute over the embedding vector, we aggregate it by computing 'mean'\n",
    "# over the embedding to get scalar coefficient for the features\n",
    "relevance_scores_df = pd.DataFrame(relevance_scores[0]).mean(axis=1)\n",
    "relevance_scores_df.describe()"
   ]
  },
  {
   "cell_type": "code",
   "execution_count": 11,
   "metadata": {},
   "outputs": [
    {
     "name": "stdout",
     "output_type": "stream",
     "text": [
      "as he spouts the one liners out i also like the scenes with <UNK> at the beginning find her very sexy when she's wearing all that fetish gear i can't be the only one surely i personally think bride of chucky is a fantastic film total entertainment from start to finish great humour horror in equal measure at only 85 minutes long it never becomes boring or dull a personal favourite of mine watch it as soon as you can\n"
     ]
    }
   ],
   "source": [
    "# # Retrieve the text\n",
    "r_t_test = get_raw_txt(w_to_id, x_test[index])\n",
    "print(r_t_test)"
   ]
  },
  {
   "cell_type": "markdown",
   "metadata": {},
   "source": [
    "#### Visualize the results"
   ]
  },
  {
   "cell_type": "code",
   "execution_count": 12,
   "metadata": {},
   "outputs": [
    {
     "name": "stderr",
     "output_type": "stream",
     "text": [
      "2018-04-23 06:46:39,860 - skater.core.visualizer.text_relevance_visualizer - INFO - Rank order feature relevance based on input created and saved as feature_relevance.png\n",
      "2018-04-23 06:46:39,861 - skater.core.visualizer.text_relevance_visualizer - INFO - Relevance plot name: feature_relevance.png\n",
      "2018-04-23 06:46:39,884 - skater.core.visualizer.text_relevance_visualizer - INFO - Visual Explainer built, use show_in_notebook to render in Jupyter style Notebooks: rendered\n"
     ]
    }
   ],
   "source": [
    "#words_scores_dict = convert_dataframe_to_dict('features', 'relevance_scores', words_scores_df)\n",
    "build_visual_explainer(r_t_test, relevance_scores_df, highlight_oov=True, enable_plot=True)"
   ]
  },
  {
   "cell_type": "code",
   "execution_count": 13,
   "metadata": {},
   "outputs": [
    {
     "data": {
      "text/html": [
       "<body><h3></h3><div class=\"row\" style=background-color:#F5F5F5white-space: pre-wrap; font-size: 12pt; font-family: Avenir Black><span style=\"background-color: rgba(255, 238, 230, 0.5)\">as</span> <span style=\"background-color: rgba(255, 245, 240, 0.5)\">he</span> <span style=\"background-color: rgba(243, 248, 254, 0.5)\">spouts</span> <span style=\"background-color: rgba(255, 245, 240, 0.5)\">the</span> <span style=\"background-color: rgba(222, 235, 247, 0.5)\">one</span> <span style=\"background-color: rgba(254, 233, 223, 0.5)\">liners</span> <span style=\"background-color: rgba(252, 133, 101, 0.5)\">out</span> <span style=\"background-color: rgba(255, 241, 234, 0.5)\">i</span> <span style=\"background-color: rgba(254, 231, 220, 0.5)\">also</span> <span style=\"background-color: rgba(247, 251, 255, 0.5)\">like</span> <span style=\"background-color: rgba(255, 245, 240, 0.5)\">the</span> <span style=\"background-color: rgba(254, 234, 225, 0.5)\">scenes</span> <span style=\"background-color: rgba(254, 224, 210, 0.5)\">with</span> <span style=\"background-color: rgba(254, 224, 210, 0.5)\"><UNK></span> <span style=\"background-color: rgba(234, 243, 251, 0.5)\">at</span> <span style=\"background-color: rgba(255, 245, 240, 0.5)\">the</span> <span style=\"background-color: rgba(242, 247, 253, 0.5)\">beginning</span> <span style=\"background-color: rgba(244, 249, 254, 0.5)\">find</span> <span style=\"background-color: rgba(255, 243, 237, 0.5)\">her</span> <span style=\"background-color: rgba(252, 193, 168, 0.5)\">very</span> <span style=\"background-color: rgba(255, 240, 232, 0.5)\">sexy</span> <span style=\"background-color: rgba(255, 245, 240, 0.5)\">when</span> <span style=\"background-color: rgba(255, 245, 240, 0.5)\">she's</span> <span style=\"background-color: rgba(255, 243, 237, 0.5)\">wearing</span> <span style=\"background-color: rgba(223, 235, 247, 0.5)\">all</span> <span style=\"background-color: rgba(255, 244, 239, 0.5)\">that</span> <span style=\"background-color: rgba(190, 216, 236, 0.5)\">fetish</span> <span style=\"background-color: rgba(242, 248, 253, 0.5)\">gear</span> <span style=\"background-color: rgba(255, 241, 234, 0.5)\">i</span> <span style=\"background-color: rgba(255, 241, 234, 0.5)\">can't</span> <span style=\"background-color: rgba(255, 245, 240, 0.5)\">be</span> <span style=\"background-color: rgba(255, 245, 240, 0.5)\">the</span> <span style=\"background-color: rgba(173, 208, 230, 0.5)\">only</span> <span style=\"background-color: rgba(222, 235, 247, 0.5)\">one</span> <span style=\"background-color: rgba(160, 203, 226, 0.5)\">surely</span> <span style=\"background-color: rgba(255, 241, 234, 0.5)\">i</span> <span style=\"background-color: rgba(255, 235, 226, 0.5)\">personally</span> <span style=\"background-color: rgba(245, 250, 254, 0.5)\">think</span> <span style=\"background-color: rgba(220, 233, 246, 0.5)\">bride</span> <span style=\"background-color: rgba(254, 225, 212, 0.5)\">of</span> <span style=\"background-color: rgba(255, 242, 236, 0.5)\">chucky</span> <span style=\"background-color: rgba(252, 146, 114, 0.5)\">is</span> <span style=\"background-color: rgba(242, 248, 253, 0.5)\">a</span> <span style=\"background-color: rgba(253, 199, 178, 0.5)\">fantastic</span> <span style=\"background-color: rgba(252, 151, 119, 0.5)\">film</span> <span style=\"background-color: rgba(8, 48, 107, 0.5)\">total</span> <span style=\"background-color: rgba(252, 175, 147, 0.5)\">entertainment</span> <span style=\"background-color: rgba(205, 223, 241, 0.5)\">from</span> <span style=\"background-color: rgba(240, 246, 253, 0.5)\">start</span> <span style=\"background-color: rgba(245, 250, 254, 0.5)\">to</span> <span style=\"background-color: rgba(252, 196, 173, 0.5)\">finish</span> <span style=\"background-color: rgba(252, 165, 136, 0.5)\">great</span> <span style=\"background-color: rgba(254, 233, 223, 0.5)\">humour</span> <span style=\"background-color: rgba(206, 224, 242, 0.5)\">horror</span> <span style=\"background-color: rgba(255, 239, 232, 0.5)\">in</span> <span style=\"background-color: rgba(231, 241, 250, 0.5)\">equal</span> <span style=\"background-color: rgba(242, 247, 253, 0.5)\">measure</span> <span style=\"background-color: rgba(234, 243, 251, 0.5)\">at</span> <span style=\"background-color: rgba(173, 208, 230, 0.5)\">only</span> <span style=\"background-color: rgba(220, 233, 246, 0.5)\">85</span> <span style=\"background-color: rgba(153, 199, 224, 0.5)\">minutes</span> <span style=\"background-color: rgba(236, 244, 251, 0.5)\">long</span> <span style=\"background-color: rgba(252, 146, 114, 0.5)\">it</span> <span style=\"background-color: rgba(254, 232, 222, 0.5)\">never</span> <span style=\"background-color: rgba(228, 239, 249, 0.5)\">becomes</span> <span style=\"background-color: rgba(211, 227, 243, 0.5)\">boring</span> <span style=\"background-color: rgba(211, 228, 243, 0.5)\">or</span> <span style=\"background-color: rgba(9, 82, 157, 0.5)\">dull</span> <span style=\"background-color: rgba(242, 248, 253, 0.5)\">a</span> <span style=\"background-color: rgba(228, 239, 249, 0.5)\">personal</span> <span style=\"background-color: rgba(249, 98, 69, 0.5)\">favourite</span> <span style=\"background-color: rgba(254, 225, 212, 0.5)\">of</span> <span style=\"background-color: rgba(240, 63, 46, 0.5)\">mine</span> <span style=\"background-color: rgba(254, 227, 215, 0.5)\">watch</span> <span style=\"background-color: rgba(252, 146, 114, 0.5)\">it</span> <span style=\"background-color: rgba(255, 238, 230, 0.5)\">as</span> <span style=\"background-color: rgba(255, 236, 227, 0.5)\">soon</span> <span style=\"background-color: rgba(255, 238, 230, 0.5)\">as</span> <span style=\"background-color: rgba(254, 220, 205, 0.5)\">you</span> <span style=\"background-color: rgba(242, 247, 253, 0.5)\">can</span></div><div align=\"center\"><img src=\"./feature_relevance.png?1\"</div></body>"
      ],
      "text/plain": [
       "<IPython.core.display.HTML object>"
      ]
     },
     "execution_count": 13,
     "metadata": {},
     "output_type": "execute_result"
    }
   ],
   "source": [
    "show_in_notebook('./rendered.html')"
   ]
  },
  {
   "cell_type": "markdown",
   "metadata": {},
   "source": [
    "### Generating conditional adversarial examples"
   ]
  },
  {
   "cell_type": "markdown",
   "metadata": {},
   "source": [
    "#### Generating text by deleting or updating textual information"
   ]
  },
  {
   "cell_type": "code",
   "execution_count": 14,
   "metadata": {},
   "outputs": [
    {
     "name": "stdout",
     "output_type": "stream",
     "text": [
      "as he spouts the one liners out i also like the scenes with <UNK> at the beginning find her very sexy when she's wearing all that fetish gear i can't be the only one surely i personally think bride of chucky is a fantastic film total entertainment from start to finish great humour horror in equal measure at only 85 minutes long it never becomes boring or dull a personal <UNK> of mine watch it as soon as you can\n"
     ]
    }
   ],
   "source": [
    "new_txt = r_t_test.replace(\"favourite\", \"<UNK>\")\n",
    "print(new_txt)"
   ]
  },
  {
   "cell_type": "code",
   "execution_count": 15,
   "metadata": {
    "collapsed": true
   },
   "outputs": [],
   "source": [
    "# Convert the dataset to engineered feature format\n",
    "# Reference: https://stackoverflow.com/questions/42964375/how-to-input-new-text-for-prediction-in-keras-while-using-an-inbuilt-dataset\n",
    "\n",
    "def input_formatter_imdb(input_txt, word_index_mapping):\n",
    "    \n",
    "    x_i_test = [[word_index_mapping[wrds] if wrds in word_index_mapping.keys() else word_index_mapping[\"<UNK>\"] \n",
    "                 for wrds in input_txt.split(' ')]]\n",
    "    x_i_test = sequence.pad_sequences(x_i_test, maxlen=maxlen)\n",
    "    txt_vector = np.array([x_i_test.flatten()])\n",
    "    return txt_vector"
   ]
  },
  {
   "cell_type": "code",
   "execution_count": 16,
   "metadata": {},
   "outputs": [
    {
     "data": {
      "text/plain": [
       "array([[   17,    29, 14578,     4,    31,  2433,    46,    13,    82,\n",
       "           40,     4,   139,    19,     2,    33,     4,   454,   169,\n",
       "           41,    55,  1279,    54,   442,  1658,    32,    15,  7717,\n",
       "         5745,    13,   191,    30,     4,    64,    31,  1348,    13,\n",
       "         1276,   104,  3452,     7, 16495,     9,     6,   777,    22,\n",
       "          964,   722,    39,   380,     8,  1363,    87,  1285,   189,\n",
       "           11,  3215,  4160,    33,    64,  7304,   234,   196,    12,\n",
       "          115,   461,   357,    42,   753,     6,   965,     2,     7,\n",
       "         1923,   106,    12,    17,   515,    17,    25,    70]],\n",
       "      dtype=int32)"
      ]
     },
     "execution_count": 16,
     "metadata": {},
     "output_type": "execute_result"
    }
   ],
   "source": [
    "input_vector = input_formatter_imdb(new_txt, w_to_id)\n",
    "input_vector"
   ]
  },
  {
   "cell_type": "code",
   "execution_count": 17,
   "metadata": {},
   "outputs": [
    {
     "name": "stdout",
     "output_type": "stream",
     "text": [
      "learning_phase 0\n",
      "Load model from disk\n",
      "\r",
      "1/1 [==============================] - 0s"
     ]
    },
    {
     "name": "stderr",
     "output_type": "stream",
     "text": [
      "2018-04-23 06:46:48,970 - IntegratedGradients - INFO - Executing operations to compute relevance using Integrated Gradient\n"
     ]
    },
    {
     "name": "stdout",
     "output_type": "stream",
     "text": [
      "\n",
      "Predicted class : [[1]]\n",
      "Ground Truth: [1]\n",
      "(1, 80, 128)\n"
     ]
    }
   ],
   "source": [
    "K.set_learning_phase(0)\n",
    "with DeepInterpreter(session=K.get_session()) as di:\n",
    "    print(\"learning_phase {}\".format(K.learning_phase()))\n",
    "    yaml_file = open('model_cnn_imdb_{}.yaml'.format(epochs), 'r')\n",
    "    loaded_model_yaml = yaml_file.read()\n",
    "    yaml_file.close()\n",
    "    \n",
    "    loaded_model = model_from_yaml(loaded_model_yaml)\n",
    "    # load weights into new model\n",
    "    loaded_model.load_weights('model_cnn_imdb_{}.h5'.format(epochs))\n",
    "    print(\"Load model from disk\")    \n",
    "    \n",
    "    # Input data\n",
    "    xs = input_vector\n",
    "    ys = np.array([1])\n",
    "\n",
    "    print('Predicted class : {}'.format(loaded_model.predict_classes(np.array([x_test[index]]))))\n",
    "    print('Ground Truth: {}'.format(ys))\n",
    "    \n",
    "    embedding_tensor = loaded_model.layers[0].output\n",
    "    input_tensor = loaded_model.layers[0].input\n",
    "    \n",
    "    embedding_out = di.session.run(embedding_tensor, {input_tensor: xs})\n",
    "    print(embedding_out.shape)\n",
    "    # Using Integrated Gradient for computing feature relevance\n",
    "    relevance_scores = di.explain('integ_grad', loaded_model.layers[-2].output * ys, \n",
    "                                  loaded_model.layers[1].input, embedding_out);"
   ]
  },
  {
   "cell_type": "code",
   "execution_count": 23,
   "metadata": {},
   "outputs": [
    {
     "name": "stdout",
     "output_type": "stream",
     "text": [
      "New Document:\n",
      "\n",
      " as he spouts the one liners out i also like the scenes with <UNK> at the beginning find her very sexy when she's wearing all that fetish gear i can't be the only one surely i personally think bride of chucky is a fantastic film total entertainment from start to finish great humour horror in equal measure at only 85 minutes long it never becomes boring or dull a personal <UNK> of mine watch it as soon as you can\n"
     ]
    },
    {
     "name": "stderr",
     "output_type": "stream",
     "text": [
      "2018-04-23 06:48:23,702 - skater.core.visualizer.text_relevance_visualizer - INFO - Rank order feature relevance based on input created and saved as feature_relevance.png\n",
      "2018-04-23 06:48:23,703 - skater.core.visualizer.text_relevance_visualizer - INFO - Relevance plot name: feature_relevance.png\n",
      "2018-04-23 06:48:23,724 - skater.core.visualizer.text_relevance_visualizer - INFO - Visual Explainer built, use show_in_notebook to render in Jupyter style Notebooks: rendered\n"
     ]
    },
    {
     "data": {
      "text/html": [
       "<body><h3></h3><div class=\"row\" style=background-color:#F5F5F5white-space: pre-wrap; font-size: 12pt; font-family: Avenir Black><span style=\"background-color: rgba(255, 238, 230, 0.5)\">as</span> <span style=\"background-color: rgba(255, 245, 240, 0.5)\">he</span> <span style=\"background-color: rgba(255, 245, 240, 0.5)\">spouts</span> <span style=\"background-color: rgba(255, 245, 240, 0.5)\">the</span> <span style=\"background-color: rgba(238, 245, 252, 0.5)\">one</span> <span style=\"background-color: rgba(255, 245, 240, 0.5)\">liners</span> <span style=\"background-color: rgba(247, 251, 255, 0.5)\">out</span> <span style=\"background-color: rgba(255, 237, 229, 0.5)\">i</span> <span style=\"background-color: rgba(252, 185, 159, 0.5)\">also</span> <span style=\"background-color: rgba(246, 250, 255, 0.5)\">like</span> <span style=\"background-color: rgba(255, 245, 240, 0.5)\">the</span> <span style=\"background-color: rgba(255, 236, 227, 0.5)\">scenes</span> <span style=\"background-color: rgba(255, 245, 240, 0.5)\">with</span> <span style=\"background-color: rgba(255, 245, 240, 0.5)\"><UNK></span> <span style=\"background-color: rgba(234, 243, 251, 0.5)\">at</span> <span style=\"background-color: rgba(255, 245, 240, 0.5)\">the</span> <span style=\"background-color: rgba(255, 243, 237, 0.5)\">beginning</span> <span style=\"background-color: rgba(255, 238, 230, 0.5)\">find</span> <span style=\"background-color: rgba(255, 241, 234, 0.5)\">her</span> <span style=\"background-color: rgba(246, 250, 255, 0.5)\">very</span> <span style=\"background-color: rgba(255, 240, 232, 0.5)\">sexy</span> <span style=\"background-color: rgba(255, 240, 233, 0.5)\">when</span> <span style=\"background-color: rgba(255, 240, 233, 0.5)\">she's</span> <span style=\"background-color: rgba(252, 182, 155, 0.5)\">wearing</span> <span style=\"background-color: rgba(232, 241, 250, 0.5)\">all</span> <span style=\"background-color: rgba(255, 240, 232, 0.5)\">that</span> <span style=\"background-color: rgba(247, 251, 255, 0.5)\">fetish</span> <span style=\"background-color: rgba(255, 245, 240, 0.5)\">gear</span> <span style=\"background-color: rgba(255, 237, 229, 0.5)\">i</span> <span style=\"background-color: rgba(255, 237, 229, 0.5)\">can't</span> <span style=\"background-color: rgba(255, 244, 239, 0.5)\">be</span> <span style=\"background-color: rgba(255, 245, 240, 0.5)\">the</span> <span style=\"background-color: rgba(195, 218, 238, 0.5)\">only</span> <span style=\"background-color: rgba(238, 245, 252, 0.5)\">one</span> <span style=\"background-color: rgba(209, 226, 243, 0.5)\">surely</span> <span style=\"background-color: rgba(255, 237, 229, 0.5)\">i</span> <span style=\"background-color: rgba(252, 187, 161, 0.5)\">personally</span> <span style=\"background-color: rgba(255, 238, 230, 0.5)\">think</span> <span style=\"background-color: rgba(236, 244, 251, 0.5)\">bride</span> <span style=\"background-color: rgba(253, 212, 194, 0.5)\">of</span> <span style=\"background-color: rgba(254, 228, 216, 0.5)\">chucky</span> <span style=\"background-color: rgba(242, 247, 253, 0.5)\">is</span> <span style=\"background-color: rgba(242, 248, 253, 0.5)\">a</span> <span style=\"background-color: rgba(255, 242, 235, 0.5)\">fantastic</span> <span style=\"background-color: rgba(255, 238, 231, 0.5)\">film</span> <span style=\"background-color: rgba(8, 48, 107, 0.5)\">total</span> <span style=\"background-color: rgba(212, 228, 244, 0.5)\">entertainment</span> <span style=\"background-color: rgba(217, 232, 245, 0.5)\">from</span> <span style=\"background-color: rgba(239, 246, 252, 0.5)\">start</span> <span style=\"background-color: rgba(214, 230, 244, 0.5)\">to</span> <span style=\"background-color: rgba(255, 240, 233, 0.5)\">finish</span> <span style=\"background-color: rgba(255, 244, 238, 0.5)\">great</span> <span style=\"background-color: rgba(254, 227, 214, 0.5)\">humour</span> <span style=\"background-color: rgba(213, 229, 244, 0.5)\">horror</span> <span style=\"background-color: rgba(255, 241, 234, 0.5)\">in</span> <span style=\"background-color: rgba(232, 241, 250, 0.5)\">equal</span> <span style=\"background-color: rgba(242, 247, 253, 0.5)\">measure</span> <span style=\"background-color: rgba(234, 243, 251, 0.5)\">at</span> <span style=\"background-color: rgba(195, 218, 238, 0.5)\">only</span> <span style=\"background-color: rgba(220, 233, 246, 0.5)\">85</span> <span style=\"background-color: rgba(211, 228, 243, 0.5)\">minutes</span> <span style=\"background-color: rgba(245, 249, 254, 0.5)\">long</span> <span style=\"background-color: rgba(236, 244, 251, 0.5)\">it</span> <span style=\"background-color: rgba(255, 244, 239, 0.5)\">never</span> <span style=\"background-color: rgba(238, 245, 252, 0.5)\">becomes</span> <span style=\"background-color: rgba(232, 241, 250, 0.5)\">boring</span> <span style=\"background-color: rgba(211, 227, 243, 0.5)\">or</span> <span style=\"background-color: rgba(17, 92, 165, 0.5)\">dull</span> <span style=\"background-color: rgba(242, 248, 253, 0.5)\">a</span> <span style=\"background-color: rgba(231, 240, 250, 0.5)\">personal</span> <span style=\"background-color: rgba(231, 240, 250, 0.5)\"><UNK></span> <span style=\"background-color: rgba(253, 212, 194, 0.5)\">of</span> <span style=\"background-color: rgba(251, 118, 86, 0.5)\">mine</span> <span style=\"background-color: rgba(255, 237, 229, 0.5)\">watch</span> <span style=\"background-color: rgba(236, 244, 251, 0.5)\">it</span> <span style=\"background-color: rgba(255, 238, 230, 0.5)\">as</span> <span style=\"background-color: rgba(254, 234, 224, 0.5)\">soon</span> <span style=\"background-color: rgba(255, 238, 230, 0.5)\">as</span> <span style=\"background-color: rgba(254, 223, 208, 0.5)\">you</span> <span style=\"background-color: rgba(243, 248, 254, 0.5)\">can</span></div><div align=\"center\"><img src=\"./feature_relevance.png?4\"</div></body>"
      ],
      "text/plain": [
       "<IPython.core.display.HTML object>"
      ]
     },
     "execution_count": 23,
     "metadata": {},
     "output_type": "execute_result"
    }
   ],
   "source": [
    "relevance_scores_df = pd.DataFrame(relevance_scores[0]).mean(axis=1)\n",
    "relevance_scores_df.describe()\n",
    "\n",
    "# Retrieve the text\n",
    "_in = input_vector.reshape(-1)\n",
    "r_t = get_raw_txt(w_to_id, _in)\n",
    "print(\"New Document:\\n\\n {}\".format(r_t))\n",
    "\n",
    "build_visual_explainer(r_t, relevance_scores_df, highlight_oov=True, enable_plot=True)\n",
    "show_in_notebook('./rendered.html')"
   ]
  },
  {
   "cell_type": "code",
   "execution_count": 19,
   "metadata": {},
   "outputs": [
    {
     "name": "stdout",
     "output_type": "stream",
     "text": [
      "as he sp<UNK>s the one liners <UNK> i also like the scenes w<UNK>h <UNK> at the beginning find her <UNK> sexy when she's wearing all that fet<UNK>h gear i can't be the only one surely i personally think bride of chucky <UNK> a <UNK> film total <UNK> from start to <UNK> <UNK> humour horror in equal measure at only 85 minutes long <UNK> never becomes boring or dull a personal <UNK> of mine watch <UNK> as soon as you can\n"
     ]
    }
   ],
   "source": [
    "# replaciing words in a sentence\n",
    "import re\n",
    "words_to_replace = [\"great\", 'is', 'it', 'finish', 'out', 'fantastic', 'entertainment', 'very']\n",
    "regex_builder = re.compile('|'.join(map(re.escape, words_to_replace)))\n",
    "new_txt2 = regex_builder.sub(\"<UNK>\" , new_txt)\n",
    "print(new_txt2)"
   ]
  },
  {
   "cell_type": "code",
   "execution_count": 20,
   "metadata": {},
   "outputs": [],
   "source": [
    "input_vector2 = input_formatter_imdb(new_txt2, w_to_id)"
   ]
  },
  {
   "cell_type": "code",
   "execution_count": 21,
   "metadata": {},
   "outputs": [
    {
     "name": "stdout",
     "output_type": "stream",
     "text": [
      "learning_phase 0\n",
      "Load model from disk\n",
      "\r",
      "1/1 [==============================] - 0s"
     ]
    },
    {
     "name": "stderr",
     "output_type": "stream",
     "text": [
      "2018-04-23 06:47:05,518 - IntegratedGradients - INFO - Executing operations to compute relevance using Integrated Gradient\n"
     ]
    },
    {
     "name": "stdout",
     "output_type": "stream",
     "text": [
      "\n",
      "Predicted class : [[1]]\n",
      "Ground Truth: [1]\n",
      "(1, 80, 128)\n"
     ]
    }
   ],
   "source": [
    "K.set_learning_phase(0)\n",
    "with DeepInterpreter(session=K.get_session()) as di:\n",
    "    print(\"learning_phase {}\".format(K.learning_phase()))\n",
    "    yaml_file = open('model_cnn_imdb_{}.yaml'.format(epochs), 'r')\n",
    "    loaded_model_yaml = yaml_file.read()\n",
    "    yaml_file.close()\n",
    "    \n",
    "    loaded_model = model_from_yaml(loaded_model_yaml)\n",
    "    # load weights into new model\n",
    "    loaded_model.load_weights('model_cnn_imdb_{}.h5'.format(epochs))\n",
    "    print(\"Load model from disk\")    \n",
    "    \n",
    "    # Input data\n",
    "    xs = input_vector2\n",
    "    ys = np.array([1])\n",
    "\n",
    "    print('Predicted class : {}'.format(loaded_model.predict_classes(np.array([x_test[index]]))))\n",
    "    print('Ground Truth: {}'.format(ys))\n",
    "    \n",
    "    embedding_tensor = loaded_model.layers[0].output\n",
    "    input_tensor = loaded_model.layers[0].input\n",
    "    \n",
    "    embedding_out = di.session.run(embedding_tensor, {input_tensor: xs})\n",
    "    print(embedding_out.shape)\n",
    "    # Using Integrated Gradient for computing feature relevance\n",
    "    relevance_scores = di.explain('integ_grad', loaded_model.layers[-2].output * ys, \n",
    "                                  loaded_model.layers[1].input, embedding_out);"
   ]
  },
  {
   "cell_type": "code",
   "execution_count": 24,
   "metadata": {},
   "outputs": [
    {
     "name": "stdout",
     "output_type": "stream",
     "text": [
      "Original Document:\n",
      "\n",
      " as he <UNK> the one liners <UNK> i also like the scenes <UNK> <UNK> at the beginning find her <UNK> sexy when she's wearing all that <UNK> gear i can't be the only one surely i personally think bride of chucky <UNK> a <UNK> film total <UNK> from start to <UNK> <UNK> humour horror in equal measure at only 85 minutes long <UNK> never becomes boring or dull a personal <UNK> of mine watch <UNK> as soon as you can\n"
     ]
    },
    {
     "name": "stderr",
     "output_type": "stream",
     "text": [
      "2018-04-23 06:48:37,781 - skater.core.visualizer.text_relevance_visualizer - INFO - Rank order feature relevance based on input created and saved as plt3.png\n",
      "2018-04-23 06:48:37,782 - skater.core.visualizer.text_relevance_visualizer - INFO - Relevance plot name: plt3.png\n",
      "2018-04-23 06:48:37,801 - skater.core.visualizer.text_relevance_visualizer - INFO - Visual Explainer built, use show_in_notebook to render in Jupyter style Notebooks: rendered\n"
     ]
    },
    {
     "data": {
      "text/html": [
       "<body><h3></h3><div class=\"row\" style=background-color:#F5F5F5white-space: pre-wrap; font-size: 12pt; font-family: Avenir Black><span style=\"background-color: rgba(255, 238, 230, 0.5)\">as</span> <span style=\"background-color: rgba(255, 245, 240, 0.5)\">he</span> <span style=\"background-color: rgba(255, 245, 240, 0.5)\"><UNK></span> <span style=\"background-color: rgba(255, 245, 240, 0.5)\">the</span> <span style=\"background-color: rgba(238, 245, 252, 0.5)\">one</span> <span style=\"background-color: rgba(255, 245, 240, 0.5)\">liners</span> <span style=\"background-color: rgba(255, 245, 240, 0.5)\"><UNK></span> <span style=\"background-color: rgba(255, 237, 229, 0.5)\">i</span> <span style=\"background-color: rgba(252, 185, 159, 0.5)\">also</span> <span style=\"background-color: rgba(246, 250, 255, 0.5)\">like</span> <span style=\"background-color: rgba(255, 245, 240, 0.5)\">the</span> <span style=\"background-color: rgba(255, 236, 227, 0.5)\">scenes</span> <span style=\"background-color: rgba(255, 236, 227, 0.5)\"><UNK></span> <span style=\"background-color: rgba(255, 236, 227, 0.5)\"><UNK></span> <span style=\"background-color: rgba(234, 243, 251, 0.5)\">at</span> <span style=\"background-color: rgba(255, 245, 240, 0.5)\">the</span> <span style=\"background-color: rgba(255, 243, 237, 0.5)\">beginning</span> <span style=\"background-color: rgba(255, 238, 230, 0.5)\">find</span> <span style=\"background-color: rgba(255, 241, 234, 0.5)\">her</span> <span style=\"background-color: rgba(255, 241, 234, 0.5)\"><UNK></span> <span style=\"background-color: rgba(255, 240, 232, 0.5)\">sexy</span> <span style=\"background-color: rgba(255, 240, 233, 0.5)\">when</span> <span style=\"background-color: rgba(255, 240, 233, 0.5)\">she's</span> <span style=\"background-color: rgba(252, 182, 155, 0.5)\">wearing</span> <span style=\"background-color: rgba(232, 241, 250, 0.5)\">all</span> <span style=\"background-color: rgba(255, 240, 232, 0.5)\">that</span> <span style=\"background-color: rgba(255, 240, 232, 0.5)\"><UNK></span> <span style=\"background-color: rgba(255, 245, 240, 0.5)\">gear</span> <span style=\"background-color: rgba(255, 237, 229, 0.5)\">i</span> <span style=\"background-color: rgba(255, 237, 229, 0.5)\">can't</span> <span style=\"background-color: rgba(255, 244, 239, 0.5)\">be</span> <span style=\"background-color: rgba(255, 245, 240, 0.5)\">the</span> <span style=\"background-color: rgba(195, 218, 238, 0.5)\">only</span> <span style=\"background-color: rgba(238, 245, 252, 0.5)\">one</span> <span style=\"background-color: rgba(209, 226, 243, 0.5)\">surely</span> <span style=\"background-color: rgba(255, 237, 229, 0.5)\">i</span> <span style=\"background-color: rgba(252, 187, 161, 0.5)\">personally</span> <span style=\"background-color: rgba(255, 238, 230, 0.5)\">think</span> <span style=\"background-color: rgba(236, 244, 251, 0.5)\">bride</span> <span style=\"background-color: rgba(253, 212, 194, 0.5)\">of</span> <span style=\"background-color: rgba(254, 228, 216, 0.5)\">chucky</span> <span style=\"background-color: rgba(254, 228, 216, 0.5)\"><UNK></span> <span style=\"background-color: rgba(242, 248, 253, 0.5)\">a</span> <span style=\"background-color: rgba(242, 248, 253, 0.5)\"><UNK></span> <span style=\"background-color: rgba(255, 238, 231, 0.5)\">film</span> <span style=\"background-color: rgba(8, 48, 107, 0.5)\">total</span> <span style=\"background-color: rgba(8, 48, 107, 0.5)\"><UNK></span> <span style=\"background-color: rgba(217, 232, 245, 0.5)\">from</span> <span style=\"background-color: rgba(239, 246, 252, 0.5)\">start</span> <span style=\"background-color: rgba(214, 230, 244, 0.5)\">to</span> <span style=\"background-color: rgba(214, 230, 244, 0.5)\"><UNK></span> <span style=\"background-color: rgba(214, 230, 244, 0.5)\"><UNK></span> <span style=\"background-color: rgba(254, 227, 214, 0.5)\">humour</span> <span style=\"background-color: rgba(213, 229, 244, 0.5)\">horror</span> <span style=\"background-color: rgba(255, 241, 234, 0.5)\">in</span> <span style=\"background-color: rgba(232, 241, 250, 0.5)\">equal</span> <span style=\"background-color: rgba(242, 247, 253, 0.5)\">measure</span> <span style=\"background-color: rgba(234, 243, 251, 0.5)\">at</span> <span style=\"background-color: rgba(195, 218, 238, 0.5)\">only</span> <span style=\"background-color: rgba(220, 233, 246, 0.5)\">85</span> <span style=\"background-color: rgba(211, 228, 243, 0.5)\">minutes</span> <span style=\"background-color: rgba(245, 249, 254, 0.5)\">long</span> <span style=\"background-color: rgba(245, 249, 254, 0.5)\"><UNK></span> <span style=\"background-color: rgba(255, 244, 239, 0.5)\">never</span> <span style=\"background-color: rgba(238, 245, 252, 0.5)\">becomes</span> <span style=\"background-color: rgba(232, 241, 250, 0.5)\">boring</span> <span style=\"background-color: rgba(211, 227, 243, 0.5)\">or</span> <span style=\"background-color: rgba(17, 92, 165, 0.5)\">dull</span> <span style=\"background-color: rgba(242, 248, 253, 0.5)\">a</span> <span style=\"background-color: rgba(231, 240, 250, 0.5)\">personal</span> <span style=\"background-color: rgba(231, 240, 250, 0.5)\"><UNK></span> <span style=\"background-color: rgba(253, 212, 194, 0.5)\">of</span> <span style=\"background-color: rgba(251, 118, 86, 0.5)\">mine</span> <span style=\"background-color: rgba(255, 237, 229, 0.5)\">watch</span> <span style=\"background-color: rgba(255, 237, 229, 0.5)\"><UNK></span> <span style=\"background-color: rgba(255, 238, 230, 0.5)\">as</span> <span style=\"background-color: rgba(254, 234, 224, 0.5)\">soon</span> <span style=\"background-color: rgba(255, 238, 230, 0.5)\">as</span> <span style=\"background-color: rgba(254, 223, 208, 0.5)\">you</span> <span style=\"background-color: rgba(243, 248, 254, 0.5)\">can</span></div><div align=\"center\"><img src=\"./plt3.png?5\"</div></body>"
      ],
      "text/plain": [
       "<IPython.core.display.HTML object>"
      ]
     },
     "execution_count": 24,
     "metadata": {},
     "output_type": "execute_result"
    }
   ],
   "source": [
    "relevance_scores_df = pd.DataFrame(relevance_scores[0]).mean(axis=1)\n",
    "relevance_scores_df.describe()\n",
    "\n",
    "# Retrieve the text\n",
    "_in = input_vector2.reshape(-1)\n",
    "r_t = get_raw_txt(w_to_id, _in)\n",
    "print(\"Original Document:\\n\\n {}\".format(r_t))\n",
    "\n",
    "# words_ = r_t.split(' ')\n",
    "\n",
    "# # merging the dataframe columnwise\n",
    "# words_df = pd.DataFrame({'features': words_})\n",
    "# scores_df = pd.DataFrame({'relevance_scores': relevance_scores_df.tolist()})\n",
    "# words_scores_df = words_df.join(scores_df)\n",
    "# words_scores_df.describe()\n",
    "\n",
    "# words_scores_dict = convert_dataframe_to_dict('features', 'relevance_scores', words_scores_df)\n",
    "\n",
    "k_args = {'plot_name' : 'plt3.png'}\n",
    "build_visual_explainer(r_t, relevance_scores_df, highlight_oov=True, enable_plot=True, **k_args)\n",
    "show_in_notebook('./rendered.html')"
   ]
  },
  {
   "cell_type": "code",
   "execution_count": null,
   "metadata": {
    "collapsed": true
   },
   "outputs": [],
   "source": []
  }
 ],
 "metadata": {
  "kernelspec": {
   "display_name": "Python 3",
   "language": "python",
   "name": "python3"
  },
  "language_info": {
   "codemirror_mode": {
    "name": "ipython",
    "version": 3
   },
   "file_extension": ".py",
   "mimetype": "text/x-python",
   "name": "python",
   "nbconvert_exporter": "python",
   "pygments_lexer": "ipython3",
   "version": "3.6.3"
  }
 },
 "nbformat": 4,
 "nbformat_minor": 2
}
