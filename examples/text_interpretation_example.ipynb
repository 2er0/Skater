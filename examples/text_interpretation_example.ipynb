{
 "cells": [
  {
   "cell_type": "code",
   "execution_count": 1,
   "metadata": {
    "collapsed": true
   },
   "outputs": [],
   "source": [
    "import matplotlib.pyplot as plt\n",
    "%matplotlib inline\n",
    "\n",
    "from sklearn.datasets import fetch_20newsgroups\n",
    "from sklearn.pipeline import make_pipeline\n",
    "from skater.core.local_interpretation.text_interpreter import vectorize_as_tf_idf, \\\n",
    "get_feature_names, topk_tfidf_features_by_class, topk_tfidf_features_overall, topk_tfidf_features_in_doc, \\\n",
    "dataframe_to_dict\n",
    "from skater.core.visualizer.relevance_visualizer import build_html, generate_word_cloud, show_in_notebook\n",
    "#import build_html, generate_word_cloud, show_in_notebook\n",
    "from IPython.core.debugger import set_trace"
   ]
  },
  {
   "cell_type": "code",
   "execution_count": 2,
   "metadata": {
    "collapsed": true
   },
   "outputs": [],
   "source": [
    "categories = [\n",
    "    'rec.autos',\n",
    "    'rec.motorcycles',\n",
    "    'rec.sport.baseball',\n",
    "    'rec.sport.hockey',\n",
    "    'sci.crypt',\n",
    "    'sci.electronics',\n",
    "    'sci.med',\n",
    "    'sci.space',\n",
    "]\n",
    "remove = ('headers', 'footers', 'quotes')\n",
    "\n",
    "data_train = fetch_20newsgroups(subset='train', categories=categories,\n",
    "                                     shuffle=True, random_state=0,\n",
    "                                     remove=remove)"
   ]
  },
  {
   "cell_type": "code",
   "execution_count": 3,
   "metadata": {
    "collapsed": true
   },
   "outputs": [],
   "source": [
    "X_train = data_train.data\n",
    "y_train = data_train.target"
   ]
  },
  {
   "cell_type": "code",
   "execution_count": 4,
   "metadata": {},
   "outputs": [
    {
     "data": {
      "text/plain": [
       "\"Does anyone have a rear wheel for a PD they'd like to part with?\\n\\nDoes anyone know where I might find one salvage?\\n\\nAs long as I'm getting the GIVI luggage for Brunnhilde and have\\nthe room, I thought I'd carry a spare.\\n\\nRide Free,\\n\\nBill\\n___________________________________________________________________             \\njohnsw@wsuvm1.csc.wsu.edu  prez=BIMC  KotV KotRR                                \\nDoD #00314  AMA #580924   SPI = 7.18   WMTC #0002  KotD #0001             \\nYamabeemer fj100gs1200pdr650 Special and a Volvo.  What more could anyone ask? \""
      ]
     },
     "execution_count": 4,
     "metadata": {},
     "output_type": "execute_result"
    }
   ],
   "source": [
    "X_train[0]"
   ]
  },
  {
   "cell_type": "code",
   "execution_count": 5,
   "metadata": {
    "collapsed": true
   },
   "outputs": [],
   "source": [
    "data_test = fetch_20newsgroups(subset='test', categories=categories,\n",
    "                                     shuffle=True, random_state=0,\n",
    "                                     remove=remove)\n",
    "X_text = data_test.data\n",
    "y_test = data_test.target"
   ]
  },
  {
   "cell_type": "code",
   "execution_count": 6,
   "metadata": {},
   "outputs": [
    {
     "name": "stdout",
     "output_type": "stream",
     "text": [
      "[nltk_data] Downloading package stopwords to /home/ubuntu/nltk_data...\n",
      "[nltk_data]   Package stopwords is already up-to-date!\n",
      "['runner', 'like', 'run', 'thu', 'run']\n"
     ]
    }
   ],
   "source": [
    "import nltk\n",
    "import re\n",
    "from nltk.corpus import stopwords\n",
    "from nltk.stem.porter import PorterStemmer\n",
    "\n",
    "\n",
    "nltk.download('stopwords')\n",
    "stop = stopwords.words('english')\n",
    "\n",
    "def tokenizer_stem_nostop(text):\n",
    "    porter = PorterStemmer()\n",
    "    return [porter.stem(w) for w in re.split('\\s+', text.strip()) \\\n",
    "            if w not in stop and re.match('[a-zA-Z]+', w)]\n",
    "\n",
    "print(tokenizer_stem_nostop('runners like running and thus they run'))"
   ]
  },
  {
   "cell_type": "code",
   "execution_count": 7,
   "metadata": {
    "collapsed": true
   },
   "outputs": [],
   "source": [
    "from bs4 import BeautifulSoup\n",
    "\n",
    "def preprocessor(text):\n",
    "    # remove HTML tags\n",
    "    text = BeautifulSoup(text, 'html.parser').get_text()\n",
    "    \n",
    "    # regex for matching emoticons, keep emoticons, ex: :), :-P, :-D\n",
    "    r = '(?::|;|=|X)(?:-)?(?:\\)|\\(|D|P)'\n",
    "    emoticons = re.findall(r, text)\n",
    "    text = re.sub(r, '', text)\n",
    "    \n",
    "    # convert to lowercase and append all emoticons behind (with space in between)\n",
    "    # replace('-','') removes nose of emoticons\n",
    "    text = re.sub('[\\W]+', ' ', text.lower()) + ' ' + ' '.join(emoticons).replace('-','')\n",
    "    return text"
   ]
  },
  {
   "cell_type": "code",
   "execution_count": 8,
   "metadata": {},
   "outputs": [
    {
     "name": "stdout",
     "output_type": "stream",
     "text": [
      "does anyone have a rear wheel for a pd they d like to part with does anyone know where i might find one salvage as long as i m getting the givi luggage for brunnhilde and have the room i thought i d carry a spare ride free bill ___________________________________________________________________ johnsw wsuvm1 csc wsu edu prez bimc kotv kotrr dod 00314 ama 580924 spi 7 18 wmtc 0002 kotd 0001 yamabeemer fj100gs1200pdr650 special and a volvo what more could anyone ask  \n"
     ]
    }
   ],
   "source": [
    "X_train = [preprocessor(t) for t in X_train]\n",
    "print(X_train[0])"
   ]
  },
  {
   "cell_type": "code",
   "execution_count": 9,
   "metadata": {},
   "outputs": [
    {
     "name": "stdout",
     "output_type": "stream",
     "text": [
      "n_samples: 4762, n_features: 738849\n"
     ]
    }
   ],
   "source": [
    "# define param_dict for TfIdf Vectorizer\n",
    "param_dict = {\n",
    "    'sublinear_tf':True, \n",
    "    'max_df': 0.5,\n",
    "    'stop_words': 'english', \n",
    "    'smooth_idf': True,\n",
    "    'ngram_range':(1, 3)   \n",
    "}\n",
    "vectorizer, X_train = vectorize_as_tf_idf(X_train, **param_dict)\n",
    "print(\"n_samples: %d, n_features: %d\" % X_train.shape)"
   ]
  },
  {
   "cell_type": "code",
   "execution_count": 10,
   "metadata": {},
   "outputs": [
    {
     "name": "stdout",
     "output_type": "stream",
     "text": [
      "738849\n",
      "['0001 idea', '0001 idea motorcycle', '0001 yamabeemer']\n"
     ]
    }
   ],
   "source": [
    "# Names of all the features extracted\n",
    "feature_names =  get_feature_names(vectorizer_inst=vectorizer)\n",
    "print(len(feature_names))\n",
    "print(feature_names[1000:1003])"
   ]
  },
  {
   "cell_type": "code",
   "execution_count": 11,
   "metadata": {
    "collapsed": true
   },
   "outputs": [],
   "source": [
    "# import pandas as pd\n",
    "\n",
    "# def top_k_with_feature_selection(X, y, feature_names, top_k):\n",
    "#     ch2 = SelectKBest(chi2, top_k)\n",
    "#     X_new = ch2.fit_transform(X, y)\n",
    "#     selected_feature = [(feature_names[i], X_new[i]) for i in ch2.get_support(indices=True)]\n",
    "#     return ch2, X_new, selected_feature\n",
    "\n",
    "\n",
    "# def _default_feature_selection(X, feature_names, top_k):\n",
    "#     arg_sort = lambda r, k: np.argsort(r)[::-1][:k]\n",
    "#     top_k_index = arg_sort(X, top_k)\n",
    "#     top_features = [(feature_names[i], X[i]) for i in top_k_index]\n",
    "#     return None, None, top_features\n",
    "\n",
    "\n",
    "# def top_k_tfidf_features(X, features, feature_selection_type='default', top_k=25):\n",
    "#     \"\"\" Computes top 'k' tf-idf values in a row.\n",
    "#     chi-square statistical test for feature selection helps in weeding out the features that are most likely independent\n",
    "#     of the categorization class or label\n",
    "#     Parameters\n",
    "#     __________\n",
    "#     each_row:\n",
    "#     features:\n",
    "#     top_k:\n",
    "\n",
    "#     Returns\n",
    "#     _______\n",
    "#     df : pandas.DataFrame\n",
    "\n",
    "#     \"\"\"\n",
    "#     fs_choice_dict = {\n",
    "#     'default': _default_feature_selection,\n",
    "# #     'chi2': _feature_selection\n",
    "#     }\n",
    "\n",
    "#     type_inst, new_x, top_features = fs_choice_dict[feature_selection_type](X, features, top_k)\n",
    "#     df = pd.DataFrame(top_features)\n",
    "#     df.columns = ['features', 'tf_idf']\n",
    "#     return df\n",
    "\n",
    "\n",
    "# def topk_tfidf_features_in_doc(data, features, top_k=25):\n",
    "#     \"\"\" Compute top tf-idf features for each document in the corpus\n",
    "\n",
    "#     Returns\n",
    "#     _______\n",
    "#     pandas.DataFrame with columns 'features', 'tf_idf'\n",
    "#     \"\"\"\n",
    "#     row = np.squeeze(data.toarray())\n",
    "#     return top_k_tfidf_features(row, features, top_k)\n",
    "\n",
    "\n",
    "# # Lamda for converting data-frame to a dictionary\n",
    "# dataframe_to_dict = lambda key_column_name, value_column_name, df: df.set_index(key_column_name).to_dict()[value_column_name]\n",
    "\n",
    "\n",
    "# def topk_tfidf_features_overall(data, feature_list, min_tfidf=0.1, feature_selection='default',\n",
    "#                                 summarizer_type='mean', top_k=25):\n",
    "#     \"\"\"\n",
    "#     \"\"\"\n",
    "#     d = data.toarray()\n",
    "#     d[d < min_tfidf] = 0\n",
    "#     summarizer_default = lambda x: np.sum(x, axis=0)\n",
    "#     summarizer_mean = lambda x: np.mean(x, axis=0)\n",
    "#     summarizer_median = lambda x: np.median(x, axis=0)\n",
    "#     summarizer_choice_dict = {\n",
    "#         'sum': summarizer_default,\n",
    "#         'mean': summarizer_mean,\n",
    "#         'median': summarizer_median\n",
    "#     }\n",
    "\n",
    "#     tfidf_summarized = summarizer_choice_dict[summarizer_type](d)\n",
    "#     return top_k_tfidf_features(tfidf_summarized, feature_list, feature_selection, top_k)\n",
    "\n",
    "\n",
    "# def topk_tfidf_features_class(X, y, feature_names, class_index, feature_selection='default',\n",
    "#                                  summarizer_type='mean', topk_features=25, min_tfidf=0.1):\n",
    "#     \"\"\"\n",
    "#     \"\"\"\n",
    "#     labels = np.unique(y)\n",
    "#     ids_by_class = list(map(lambda label: np.where(y==label), labels))\n",
    "#     feature_df = topk_tfidf_features_overall(data=X[ids_by_class[class_index]], feature_list=feature_names, \n",
    "#                                              min_tfidf=0.1, feature_selection='default',\n",
    "#                                              summarizer_type=summarizer_type, top_k=topk_features)\n",
    "#     feature_df.label = ids_by_class[class_index]\n",
    "#     return feature_df"
   ]
  },
  {
   "cell_type": "code",
   "execution_count": 14,
   "metadata": {},
   "outputs": [
    {
     "name": "stdout",
     "output_type": "stream",
     "text": [
      "Class:rec.motorcycles\n"
     ]
    },
    {
     "data": {
      "text/html": [
       "<div>\n",
       "<style>\n",
       "    .dataframe thead tr:only-child th {\n",
       "        text-align: right;\n",
       "    }\n",
       "\n",
       "    .dataframe thead th {\n",
       "        text-align: left;\n",
       "    }\n",
       "\n",
       "    .dataframe tbody tr th {\n",
       "        vertical-align: top;\n",
       "    }\n",
       "</style>\n",
       "<table border=\"1\" class=\"dataframe\">\n",
       "  <thead>\n",
       "    <tr style=\"text-align: right;\">\n",
       "      <th></th>\n",
       "      <th>features</th>\n",
       "      <th>tf_idf</th>\n",
       "    </tr>\n",
       "  </thead>\n",
       "  <tbody>\n",
       "    <tr>\n",
       "      <th>0</th>\n",
       "      <td>car</td>\n",
       "      <td>0.002384</td>\n",
       "    </tr>\n",
       "    <tr>\n",
       "      <th>1</th>\n",
       "      <td>stuff deleted</td>\n",
       "      <td>0.002317</td>\n",
       "    </tr>\n",
       "    <tr>\n",
       "      <th>2</th>\n",
       "      <td>gt</td>\n",
       "      <td>0.002284</td>\n",
       "    </tr>\n",
       "    <tr>\n",
       "      <th>3</th>\n",
       "      <td>ites</td>\n",
       "      <td>0.002204</td>\n",
       "    </tr>\n",
       "    <tr>\n",
       "      <th>4</th>\n",
       "      <td>ford</td>\n",
       "      <td>0.001978</td>\n",
       "    </tr>\n",
       "    <tr>\n",
       "      <th>5</th>\n",
       "      <td>auto</td>\n",
       "      <td>0.001966</td>\n",
       "    </tr>\n",
       "    <tr>\n",
       "      <th>6</th>\n",
       "      <td>saturn</td>\n",
       "      <td>0.001959</td>\n",
       "    </tr>\n",
       "    <tr>\n",
       "      <th>7</th>\n",
       "      <td>deleted</td>\n",
       "      <td>0.001897</td>\n",
       "    </tr>\n",
       "    <tr>\n",
       "      <th>8</th>\n",
       "      <td>dealer</td>\n",
       "      <td>0.001819</td>\n",
       "    </tr>\n",
       "    <tr>\n",
       "      <th>9</th>\n",
       "      <td>vw</td>\n",
       "      <td>0.001818</td>\n",
       "    </tr>\n",
       "  </tbody>\n",
       "</table>\n",
       "</div>"
      ],
      "text/plain": [
       "        features    tf_idf\n",
       "0            car  0.002384\n",
       "1  stuff deleted  0.002317\n",
       "2             gt  0.002284\n",
       "3           ites  0.002204\n",
       "4           ford  0.001978\n",
       "5           auto  0.001966\n",
       "6         saturn  0.001959\n",
       "7        deleted  0.001897\n",
       "8         dealer  0.001819\n",
       "9             vw  0.001818"
      ]
     },
     "execution_count": 14,
     "metadata": {},
     "output_type": "execute_result"
    }
   ],
   "source": [
    "# 1. First Query: What are the top TF-IDF features in the training corpus\n",
    "print(\"Class:{}\".format(categories[1]))\n",
    "topk_tfidf_features_by_class(X=X_train, y=y_train, feature_names=feature_names, class_index=0, feature_selection='default',\n",
    "                                 summarizer_type='mean', topk_features=10, min_tfidf=0.1)"
   ]
  },
  {
   "cell_type": "code",
   "execution_count": 13,
   "metadata": {},
   "outputs": [
    {
     "name": "stdout",
     "output_type": "stream",
     "text": [
      "Class:rec.motorcycles\n"
     ]
    },
    {
     "data": {
      "text/html": [
       "<div>\n",
       "<style>\n",
       "    .dataframe thead tr:only-child th {\n",
       "        text-align: right;\n",
       "    }\n",
       "\n",
       "    .dataframe thead th {\n",
       "        text-align: left;\n",
       "    }\n",
       "\n",
       "    .dataframe tbody tr th {\n",
       "        vertical-align: top;\n",
       "    }\n",
       "</style>\n",
       "<table border=\"1\" class=\"dataframe\">\n",
       "  <thead>\n",
       "    <tr style=\"text-align: right;\">\n",
       "      <th></th>\n",
       "      <th>features</th>\n",
       "      <th>tf_idf</th>\n",
       "    </tr>\n",
       "  </thead>\n",
       "  <tbody>\n",
       "    <tr>\n",
       "      <th>0</th>\n",
       "      <td>helmet</td>\n",
       "      <td>0.003295</td>\n",
       "    </tr>\n",
       "    <tr>\n",
       "      <th>1</th>\n",
       "      <td>bmw</td>\n",
       "      <td>0.002836</td>\n",
       "    </tr>\n",
       "    <tr>\n",
       "      <th>2</th>\n",
       "      <td>bike</td>\n",
       "      <td>0.002757</td>\n",
       "    </tr>\n",
       "    <tr>\n",
       "      <th>3</th>\n",
       "      <td>motorcycle</td>\n",
       "      <td>0.002623</td>\n",
       "    </tr>\n",
       "    <tr>\n",
       "      <th>4</th>\n",
       "      <td>dog</td>\n",
       "      <td>0.002615</td>\n",
       "    </tr>\n",
       "    <tr>\n",
       "      <th>5</th>\n",
       "      <td>shaft</td>\n",
       "      <td>0.002574</td>\n",
       "    </tr>\n",
       "    <tr>\n",
       "      <th>6</th>\n",
       "      <td>bikes</td>\n",
       "      <td>0.002327</td>\n",
       "    </tr>\n",
       "    <tr>\n",
       "      <th>7</th>\n",
       "      <td>dod</td>\n",
       "      <td>0.002184</td>\n",
       "    </tr>\n",
       "    <tr>\n",
       "      <th>8</th>\n",
       "      <td>honda</td>\n",
       "      <td>0.001939</td>\n",
       "    </tr>\n",
       "    <tr>\n",
       "      <th>9</th>\n",
       "      <td>harley</td>\n",
       "      <td>0.001930</td>\n",
       "    </tr>\n",
       "  </tbody>\n",
       "</table>\n",
       "</div>"
      ],
      "text/plain": [
       "     features    tf_idf\n",
       "0      helmet  0.003295\n",
       "1         bmw  0.002836\n",
       "2        bike  0.002757\n",
       "3  motorcycle  0.002623\n",
       "4         dog  0.002615\n",
       "5       shaft  0.002574\n",
       "6       bikes  0.002327\n",
       "7         dod  0.002184\n",
       "8       honda  0.001939\n",
       "9      harley  0.001930"
      ]
     },
     "execution_count": 13,
     "metadata": {},
     "output_type": "execute_result"
    }
   ],
   "source": [
    "print(\"Class:{}\".format(categories[1]))\n",
    "topk_tfidf_features_by_class(X=X_train, y=y_train, feature_names=feature_names, class_index=1, \n",
    "                             feature_selection='default', summarizer_type='mean', topk_features=10, min_tfidf=0.1)"
   ]
  },
  {
   "cell_type": "code",
   "execution_count": 15,
   "metadata": {},
   "outputs": [
    {
     "name": "stdout",
     "output_type": "stream",
     "text": [
      "Target Catgeory:rec.sport.baseball\n",
      "            features    tf_idf\n",
      "0        ball caught  0.171343\n",
      "1               ball  0.157728\n",
      "2               base  0.144721\n",
      "3             forced  0.132493\n",
      "4            dropped  0.124181\n",
      "5             caught  0.114289\n",
      "6    run decide stay  0.109877\n",
      "7       ball dropped  0.109877\n",
      "8         run decide  0.109877\n",
      "9  stay ball dropped  0.109877\n"
     ]
    }
   ],
   "source": [
    "from random import randint\n",
    "row_index = randint(0, 3000)\n",
    "print(\"Target Catgeory:{}\".format(categories[y_train[1]]))\n",
    "feature_df = topk_tfidf_features_in_doc(data=X_train[1], features=feature_names, \n",
    "                                        feature_selection_choice='default', top_k=10)\n",
    "print(feature_df)"
   ]
  },
  {
   "cell_type": "code",
   "execution_count": 20,
   "metadata": {},
   "outputs": [
    {
     "name": "stdout",
     "output_type": "stream",
     "text": [
      "\n",
      "\n",
      "\n",
      "\n",
      "\n",
      "I'm not sure I understand this question. When the IF rule is invoked,\n",
      "the batter is automatically out. This relieves the runners from being\n",
      "forced to advance to the next base if the ball is not caught. Other\n",
      "than that, isn't it just the same as any situation in which a runner on\n",
      "a base is not forced to the next base on a dropped fly ball? That is,\n",
      "if the ball is caught he can tag up and run (or decide to stay), and\n",
      "if the ball is dropped he can have left the base at any time.\n",
      "\n"
     ]
    },
    {
     "data": {
      "text/html": [
       "<body><div style=\"white-space: pre-wrap; font-size: 10pt; font-family: Verdana;\"><body><div style=\"white-space: pre-wrap; font-size: 10pt; font-family: Verdana;\">\n",
       "\n",
       "\n",
       "\n",
       "\n",
       "<span style=\"background-color: rgba(255, 255, 0, 0.3)\">I'm</span> <span style=\"background-color: rgba(255, 255, 0, 0.3)\">not</span> <span style=\"background-color: rgba(255, 255, 0, 0.3)\">sure</span> <span style=\"background-color: rgba(255, 255, 0, 0.3)\">I</span> <span style=\"background-color: rgba(255, 255, 0, 0.3)\">understand</span> <span style=\"background-color: rgba(255, 255, 0, 0.3)\">this</span> <span style=\"background-color: rgba(255, 255, 0, 0.3)\">question.</span> <span style=\"background-color: rgba(255, 255, 0, 0.3)\">When</span> <span style=\"background-color: rgba(255, 255, 0, 0.3)\">the</span> <span style=\"background-color: rgba(255, 255, 0, 0.3)\">IF</span> <span style=\"background-color: rgba(255, 255, 0, 0.3)\">rule</span> <span style=\"background-color: rgba(255, 255, 0, 0.3)\">is</span> <span style=\"background-color: rgba(255, 255, 0, 0.3)\">invoked,</span>\n",
       "<span style=\"background-color: rgba(255, 255, 0, 0.3)\">the</span> <span style=\"background-color: rgba(255, 255, 0, 0.3)\">batter</span> <span style=\"background-color: rgba(255, 255, 0, 0.3)\">is</span> <span style=\"background-color: rgba(255, 255, 0, 0.3)\">automatically</span> <span style=\"background-color: rgba(255, 255, 0, 0.3)\">out.</span> <span style=\"background-color: rgba(255, 255, 0, 0.3)\">This</span> <span style=\"background-color: rgba(255, 255, 0, 0.3)\">relieves</span> <span style=\"background-color: rgba(255, 255, 0, 0.3)\">the</span> <span style=\"background-color: rgba(255, 255, 0, 0.3)\">runners</span> <span style=\"background-color: rgba(255, 255, 0, 0.3)\">from</span> <span style=\"background-color: rgba(255, 255, 0, 0.3)\">being</span>\n",
       "<span style=\"background-color: rgba(140, 192, 221, 0.5)\">forced</span> <span style=\"background-color: rgba(255, 255, 0, 0.3)\">to</span> <span style=\"background-color: rgba(255, 255, 0, 0.3)\">advance</span> <span style=\"background-color: rgba(255, 255, 0, 0.3)\">to</span> <span style=\"background-color: rgba(255, 255, 0, 0.3)\">the</span> <span style=\"background-color: rgba(255, 255, 0, 0.3)\">next</span> <span style=\"background-color: rgba(124, 183, 218, 0.5)\">base</span> <span style=\"background-color: rgba(255, 255, 0, 0.3)\">if</span> <span style=\"background-color: rgba(255, 255, 0, 0.3)\">the</span> <span style=\"background-color: rgba(8, 48, 107, 0.5)\">ball</span> <span style=\"background-color: rgba(255, 255, 0, 0.3)\">is</span> <span style=\"background-color: rgba(255, 255, 0, 0.3)\">not</span> <span style=\"background-color: rgba(163, 204, 227, 0.5)\">caught.</span> <span style=\"background-color: rgba(255, 255, 0, 0.3)\">Other</span>\n",
       "<span style=\"background-color: rgba(255, 255, 0, 0.3)\">than</span> <span style=\"background-color: rgba(255, 255, 0, 0.3)\">that,</span> <span style=\"background-color: rgba(255, 255, 0, 0.3)\">isn't</span> <span style=\"background-color: rgba(255, 255, 0, 0.3)\">it</span> <span style=\"background-color: rgba(255, 255, 0, 0.3)\">just</span> <span style=\"background-color: rgba(255, 255, 0, 0.3)\">the</span> <span style=\"background-color: rgba(255, 255, 0, 0.3)\">same</span> <span style=\"background-color: rgba(255, 255, 0, 0.3)\">as</span> <span style=\"background-color: rgba(255, 255, 0, 0.3)\">any</span> <span style=\"background-color: rgba(255, 255, 0, 0.3)\">situation</span> <span style=\"background-color: rgba(255, 255, 0, 0.3)\">in</span> <span style=\"background-color: rgba(255, 255, 0, 0.3)\">which</span> <span style=\"background-color: rgba(255, 255, 0, 0.3)\">a</span> <span style=\"background-color: rgba(255, 255, 0, 0.3)\">runner</span> <span style=\"background-color: rgba(255, 255, 0, 0.3)\">on</span>\n",
       "<span style=\"background-color: rgba(255, 255, 0, 0.3)\">a</span> <span style=\"background-color: rgba(124, 183, 218, 0.5)\">base</span> <span style=\"background-color: rgba(255, 255, 0, 0.3)\">is</span> <span style=\"background-color: rgba(255, 255, 0, 0.3)\">not</span> <span style=\"background-color: rgba(140, 192, 221, 0.5)\">forced</span> <span style=\"background-color: rgba(255, 255, 0, 0.3)\">to</span> <span style=\"background-color: rgba(255, 255, 0, 0.3)\">the</span> <span style=\"background-color: rgba(255, 255, 0, 0.3)\">next</span> <span style=\"background-color: rgba(124, 183, 218, 0.5)\">base</span> <span style=\"background-color: rgba(255, 255, 0, 0.3)\">on</span> <span style=\"background-color: rgba(255, 255, 0, 0.3)\">a</span> <span style=\"background-color: rgba(25, 103, 173, 0.5)\">dropped</span> <span style=\"background-color: rgba(255, 255, 0, 0.3)\">fly</span> <span style=\"background-color: rgba(8, 48, 107, 0.5)\">ball?</span> <span style=\"background-color: rgba(255, 255, 0, 0.3)\">That</span> <span style=\"background-color: rgba(255, 255, 0, 0.3)\">is,</span>\n",
       "<span style=\"background-color: rgba(255, 255, 0, 0.3)\">if</span> <span style=\"background-color: rgba(255, 255, 0, 0.3)\">the</span> <span style=\"background-color: rgba(8, 48, 107, 0.5)\">ball</span> <span style=\"background-color: rgba(255, 255, 0, 0.3)\">is</span> <span style=\"background-color: rgba(163, 204, 227, 0.5)\">caught</span> <span style=\"background-color: rgba(255, 255, 0, 0.3)\">he</span> <span style=\"background-color: rgba(255, 255, 0, 0.3)\">can</span> <span style=\"background-color: rgba(255, 255, 0, 0.3)\">tag</span> <span style=\"background-color: rgba(255, 255, 0, 0.3)\">up</span> <span style=\"background-color: rgba(255, 255, 0, 0.3)\">and</span> <span style=\"background-color: rgba(255, 255, 0, 0.3)\">run</span> <span style=\"background-color: rgba(255, 255, 0, 0.3)\">(or</span> <span style=\"background-color: rgba(255, 255, 0, 0.3)\">decide</span> <span style=\"background-color: rgba(255, 255, 0, 0.3)\">to</span> <span style=\"background-color: rgba(166, 206, 228, 0.5)\">stay),</span> <span style=\"background-color: rgba(255, 255, 0, 0.3)\">and</span>\n",
       "<span style=\"background-color: rgba(255, 255, 0, 0.3)\">if</span> <span style=\"background-color: rgba(255, 255, 0, 0.3)\">the</span> <span style=\"background-color: rgba(8, 48, 107, 0.5)\">ball</span> <span style=\"background-color: rgba(255, 255, 0, 0.3)\">is</span> <span style=\"background-color: rgba(25, 103, 173, 0.5)\">dropped</span> <span style=\"background-color: rgba(255, 255, 0, 0.3)\">he</span> <span style=\"background-color: rgba(255, 255, 0, 0.3)\">can</span> <span style=\"background-color: rgba(255, 255, 0, 0.3)\">have</span> <span style=\"background-color: rgba(255, 255, 0, 0.3)\">left</span> <span style=\"background-color: rgba(255, 255, 0, 0.3)\">the</span> <span style=\"background-color: rgba(124, 183, 218, 0.5)\">base</span> <span style=\"background-color: rgba(255, 255, 0, 0.3)\">at</span> <span style=\"background-color: rgba(255, 255, 0, 0.3)\">any</span> <span style=\"background-color: rgba(255, 255, 0, 0.3)\">time.</span>\n",
       "</div></body>"
      ],
      "text/plain": [
       "<IPython.core.display.HTML object>"
      ]
     },
     "execution_count": 20,
     "metadata": {},
     "output_type": "execute_result"
    }
   ],
   "source": [
    "print(data_train.data[1])\n",
    "feature_relevance_wts = dataframe_to_dict('features', 'tf_idf', feature_df)\n",
    "build_html(data_train.data[1], feature_relevance_wts, highlight_oov=True)\n",
    "show_in_notebook('./rendered.html')"
   ]
  },
  {
   "cell_type": "code",
   "execution_count": null,
   "metadata": {
    "collapsed": true
   },
   "outputs": [],
   "source": []
  }
 ],
 "metadata": {
  "kernelspec": {
   "display_name": "Python 3",
   "language": "python",
   "name": "python3"
  },
  "language_info": {
   "codemirror_mode": {
    "name": "ipython",
    "version": 3
   },
   "file_extension": ".py",
   "mimetype": "text/x-python",
   "name": "python",
   "nbconvert_exporter": "python",
   "pygments_lexer": "ipython3",
   "version": "3.6.3"
  }
 },
 "nbformat": 4,
 "nbformat_minor": 2
}
